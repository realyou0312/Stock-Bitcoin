{
 "cells": [
  {
   "cell_type": "code",
   "execution_count": 20,
   "id": "expanded-grain",
   "metadata": {},
   "outputs": [],
   "source": [
    "import requests\n",
    "from bs4 import BeautifulSoup\n",
    "from selenium import webdriver\n",
    "import pandas as pd\n",
    "\n",
    "# browser = webdriver.Chrome(r\"C:\\Users\\minju\\Desktop\\1.PythonWorkspace\\chromedriver.exe\")\n",
    "browser = webdriver.Chrome()\n",
    "browser.maximize_window()\n",
    "\n",
    "url = \"https://finance.yahoo.com/quote/%5EGSPC/history?period1=1420070400&period2=1616976000&interval=1d&filter=history&frequency=1d&includeAdjustedClose=true\"\n",
    "\n",
    "# url = \"https://play.google.com/store/movies?hl=ko&gl=US\"\n",
    "browser.get(url)"
   ]
  },
  {
   "cell_type": "code",
   "execution_count": 16,
   "id": "intellectual-oxygen",
   "metadata": {},
   "outputs": [],
   "source": [
    "# import time\n",
    "# interval = 2 \n",
    "\n",
    "\n",
    "# prev_height = browser.execute_script(\"return document.body.scrollHeight\") \n",
    "\n",
    "\n",
    "# while True:\n",
    "#     browser.execute_script(\"window.scrollTo(0,document.body.scrollHeight)\")\n",
    "    \n",
    "\n",
    "#     time.sleep(interval)\n",
    "\n",
    "  \n",
    "#     curr_height =  browser.execute_script(\"return document.body.scrollHeight\") \n",
    "\n",
    "#     if curr_height == prev_height: \n",
    "#         break\n",
    "\n",
    "#     prev_height = curr_height \n",
    "\n"
   ]
  },
  {
   "cell_type": "code",
   "execution_count": 21,
   "id": "jewish-treat",
   "metadata": {},
   "outputs": [],
   "source": [
    "import time\n",
    "\n",
    "SCROLL_PAUSE_TIME = 2\n",
    "\n",
    "\n",
    "last_height = browser.execute_script(\"return document.body.scrollHeight\")         \n",
    "\n",
    "while True:\n",
    "                                                        \n",
    "    browser.execute_script(\"window.scrollTo(0, document.body.scrollHeight);\")\n",
    "\n",
    "  \n",
    "    time.sleep(SCROLL_PAUSE_TIME)                                                \n",
    "    browser.execute_script(\"window.scrollTo(0, document.body.scrollHeight-50);\")  \n",
    "    time.sleep(SCROLL_PAUSE_TIME)\n",
    "\n",
    "                \n",
    "    new_height = browser.execute_script(\"return document.body.scrollHeight\")\n",
    "\n",
    "    if new_height == last_height:                                                \n",
    "        break\n",
    "\n",
    "    last_height = new_height"
   ]
  },
  {
   "cell_type": "code",
   "execution_count": 22,
   "id": "appreciated-juvenile",
   "metadata": {},
   "outputs": [
    {
     "name": "stdout",
     "output_type": "stream",
     "text": [
      "100\n"
     ]
    }
   ],
   "source": [
    "soup = BeautifulSoup(browser.page_source, \"lxml\")   \n",
    "\n",
    "data = soup.find(\"tbody\").find_all(\"tr\")\n",
    "print(len(data))\n",
    "\n",
    "volume_list=[]\n",
    "for row in data:\n",
    "    volume = row.find_all(\"td\")[6].get_text()\n",
    "  \n",
    "    volume_list.append(volume)\n",
    "    \n",
    "\n",
    "browser.quit()\n"
   ]
  },
  {
   "cell_type": "code",
   "execution_count": 23,
   "id": "religious-effectiveness",
   "metadata": {},
   "outputs": [
    {
     "data": {
      "text/html": [
       "<div>\n",
       "<style scoped>\n",
       "    .dataframe tbody tr th:only-of-type {\n",
       "        vertical-align: middle;\n",
       "    }\n",
       "\n",
       "    .dataframe tbody tr th {\n",
       "        vertical-align: top;\n",
       "    }\n",
       "\n",
       "    .dataframe thead th {\n",
       "        text-align: right;\n",
       "    }\n",
       "</style>\n",
       "<table border=\"1\" class=\"dataframe\">\n",
       "  <thead>\n",
       "    <tr style=\"text-align: right;\">\n",
       "      <th></th>\n",
       "      <th>0</th>\n",
       "    </tr>\n",
       "  </thead>\n",
       "  <tbody>\n",
       "    <tr>\n",
       "      <th>0</th>\n",
       "      <td>5,467,850,000</td>\n",
       "    </tr>\n",
       "    <tr>\n",
       "      <th>1</th>\n",
       "      <td>4,940,800,000</td>\n",
       "    </tr>\n",
       "    <tr>\n",
       "      <th>2</th>\n",
       "      <td>4,766,990,000</td>\n",
       "    </tr>\n",
       "    <tr>\n",
       "      <th>3</th>\n",
       "      <td>4,645,340,000</td>\n",
       "    </tr>\n",
       "    <tr>\n",
       "      <th>4</th>\n",
       "      <td>4,311,380,000</td>\n",
       "    </tr>\n",
       "    <tr>\n",
       "      <th>...</th>\n",
       "      <td>...</td>\n",
       "    </tr>\n",
       "    <tr>\n",
       "      <th>95</th>\n",
       "      <td>4,833,950,000</td>\n",
       "    </tr>\n",
       "    <tr>\n",
       "      <th>96</th>\n",
       "      <td>4,841,190,000</td>\n",
       "    </tr>\n",
       "    <tr>\n",
       "      <th>97</th>\n",
       "      <td>4,783,040,000</td>\n",
       "    </tr>\n",
       "    <tr>\n",
       "      <th>98</th>\n",
       "      <td>4,220,070,000</td>\n",
       "    </tr>\n",
       "    <tr>\n",
       "      <th>99</th>\n",
       "      <td>4,310,590,000</td>\n",
       "    </tr>\n",
       "  </tbody>\n",
       "</table>\n",
       "<p>100 rows × 1 columns</p>\n",
       "</div>"
      ],
      "text/plain": [
       "                0\n",
       "0   5,467,850,000\n",
       "1   4,940,800,000\n",
       "2   4,766,990,000\n",
       "3   4,645,340,000\n",
       "4   4,311,380,000\n",
       "..            ...\n",
       "95  4,833,950,000\n",
       "96  4,841,190,000\n",
       "97  4,783,040,000\n",
       "98  4,220,070,000\n",
       "99  4,310,590,000\n",
       "\n",
       "[100 rows x 1 columns]"
      ]
     },
     "execution_count": 23,
     "metadata": {},
     "output_type": "execute_result"
    }
   ],
   "source": [
    "pd.DataFrame(volume_list)"
   ]
  },
  {
   "cell_type": "code",
   "execution_count": null,
   "id": "mental-pacific",
   "metadata": {},
   "outputs": [],
   "source": []
  }
 ],
 "metadata": {
  "kernelspec": {
   "display_name": "Python 3",
   "language": "python",
   "name": "python3"
  },
  "language_info": {
   "codemirror_mode": {
    "name": "ipython",
    "version": 3
   },
   "file_extension": ".py",
   "mimetype": "text/x-python",
   "name": "python",
   "nbconvert_exporter": "python",
   "pygments_lexer": "ipython3",
   "version": "3.7.7"
  }
 },
 "nbformat": 4,
 "nbformat_minor": 5
}
