{
 "cells": [
  {
   "cell_type": "code",
   "execution_count": 1,
   "id": "entertaining-internship",
   "metadata": {},
   "outputs": [],
   "source": [
    "import FinanceDataReader as fdr\n",
    "import pandas as pd\n",
    "import numpy as np\n",
    "import seaborn as sns\n",
    "import matplotlib.pyplot as plt\n",
    "\n",
    "import statsmodels.api as sm\n",
    "from statsmodels.tsa.api import VAR\n",
    "from statsmodels.tsa.stattools import adfuller"
   ]
  },
  {
   "cell_type": "code",
   "execution_count": 55,
   "id": "graphic-toilet",
   "metadata": {},
   "outputs": [
    {
     "name": "stderr",
     "output_type": "stream",
     "text": [
      "C:\\ProgramData\\Anaconda3\\lib\\site-packages\\ipykernel_launcher.py:16: SettingWithCopyWarning: \n",
      "A value is trying to be set on a copy of a slice from a DataFrame\n",
      "\n",
      "See the caveats in the documentation: https://pandas.pydata.org/pandas-docs/stable/user_guide/indexing.html#returning-a-view-versus-a-copy\n",
      "  app.launch_new_instance()\n",
      "C:\\ProgramData\\Anaconda3\\lib\\site-packages\\ipykernel_launcher.py:19: SettingWithCopyWarning: \n",
      "A value is trying to be set on a copy of a slice from a DataFrame\n",
      "\n",
      "See the caveats in the documentation: https://pandas.pydata.org/pandas-docs/stable/user_guide/indexing.html#returning-a-view-versus-a-copy\n"
     ]
    },
    {
     "data": {
      "text/html": [
       "<div>\n",
       "<style scoped>\n",
       "    .dataframe tbody tr th:only-of-type {\n",
       "        vertical-align: middle;\n",
       "    }\n",
       "\n",
       "    .dataframe tbody tr th {\n",
       "        vertical-align: top;\n",
       "    }\n",
       "\n",
       "    .dataframe thead th {\n",
       "        text-align: right;\n",
       "    }\n",
       "</style>\n",
       "<table border=\"1\" class=\"dataframe\">\n",
       "  <thead>\n",
       "    <tr style=\"text-align: right;\">\n",
       "      <th></th>\n",
       "      <th>Price</th>\n",
       "      <th>Open</th>\n",
       "      <th>High</th>\n",
       "      <th>Low</th>\n",
       "      <th>Vol.</th>\n",
       "      <th>Change %</th>\n",
       "    </tr>\n",
       "    <tr>\n",
       "      <th>Date</th>\n",
       "      <th></th>\n",
       "      <th></th>\n",
       "      <th></th>\n",
       "      <th></th>\n",
       "      <th></th>\n",
       "      <th></th>\n",
       "    </tr>\n",
       "  </thead>\n",
       "  <tbody>\n",
       "    <tr>\n",
       "      <th>2015-01-01</th>\n",
       "      <td>314.9</td>\n",
       "      <td>318.2</td>\n",
       "      <td>321.4</td>\n",
       "      <td>313.5</td>\n",
       "      <td>12820</td>\n",
       "      <td>-1.05</td>\n",
       "    </tr>\n",
       "    <tr>\n",
       "      <th>2015-01-02</th>\n",
       "      <td>315.2</td>\n",
       "      <td>314.9</td>\n",
       "      <td>316.4</td>\n",
       "      <td>313.1</td>\n",
       "      <td>14730</td>\n",
       "      <td>0.10</td>\n",
       "    </tr>\n",
       "    <tr>\n",
       "      <th>2015-01-03</th>\n",
       "      <td>287.1</td>\n",
       "      <td>315.2</td>\n",
       "      <td>315.8</td>\n",
       "      <td>284.9</td>\n",
       "      <td>47370</td>\n",
       "      <td>-8.91</td>\n",
       "    </tr>\n",
       "    <tr>\n",
       "      <th>2015-01-04</th>\n",
       "      <td>264.7</td>\n",
       "      <td>287.1</td>\n",
       "      <td>289.9</td>\n",
       "      <td>255.9</td>\n",
       "      <td>88770</td>\n",
       "      <td>-7.80</td>\n",
       "    </tr>\n",
       "    <tr>\n",
       "      <th>2015-01-05</th>\n",
       "      <td>274.8</td>\n",
       "      <td>264.7</td>\n",
       "      <td>278.3</td>\n",
       "      <td>262.9</td>\n",
       "      <td>54990</td>\n",
       "      <td>3.82</td>\n",
       "    </tr>\n",
       "    <tr>\n",
       "      <th>...</th>\n",
       "      <td>...</td>\n",
       "      <td>...</td>\n",
       "      <td>...</td>\n",
       "      <td>...</td>\n",
       "      <td>...</td>\n",
       "      <td>...</td>\n",
       "    </tr>\n",
       "    <tr>\n",
       "      <th>2021-03-26</th>\n",
       "      <td>55036.1</td>\n",
       "      <td>51317.4</td>\n",
       "      <td>55074.1</td>\n",
       "      <td>51302.0</td>\n",
       "      <td>100300</td>\n",
       "      <td>7.24</td>\n",
       "    </tr>\n",
       "    <tr>\n",
       "      <th>2021-03-27</th>\n",
       "      <td>55862.9</td>\n",
       "      <td>55033.8</td>\n",
       "      <td>56531.1</td>\n",
       "      <td>54010.2</td>\n",
       "      <td>73870</td>\n",
       "      <td>1.50</td>\n",
       "    </tr>\n",
       "    <tr>\n",
       "      <th>2021-03-28</th>\n",
       "      <td>55765.2</td>\n",
       "      <td>55856.9</td>\n",
       "      <td>56504.2</td>\n",
       "      <td>54711.3</td>\n",
       "      <td>58710</td>\n",
       "      <td>-0.17</td>\n",
       "    </tr>\n",
       "    <tr>\n",
       "      <th>2021-03-29</th>\n",
       "      <td>57616.2</td>\n",
       "      <td>55764.7</td>\n",
       "      <td>58392.6</td>\n",
       "      <td>54951.1</td>\n",
       "      <td>107910</td>\n",
       "      <td>3.32</td>\n",
       "    </tr>\n",
       "    <tr>\n",
       "      <th>2021-03-30</th>\n",
       "      <td>57453.3</td>\n",
       "      <td>57614.6</td>\n",
       "      <td>57752.7</td>\n",
       "      <td>57419.9</td>\n",
       "      <td>100730</td>\n",
       "      <td>-0.28</td>\n",
       "    </tr>\n",
       "  </tbody>\n",
       "</table>\n",
       "<p>2281 rows × 6 columns</p>\n",
       "</div>"
      ],
      "text/plain": [
       "              Price     Open     High      Low    Vol.  Change %\n",
       "Date                                                            \n",
       "2015-01-01    314.9    318.2    321.4    313.5   12820     -1.05\n",
       "2015-01-02    315.2    314.9    316.4    313.1   14730      0.10\n",
       "2015-01-03    287.1    315.2    315.8    284.9   47370     -8.91\n",
       "2015-01-04    264.7    287.1    289.9    255.9   88770     -7.80\n",
       "2015-01-05    274.8    264.7    278.3    262.9   54990      3.82\n",
       "...             ...      ...      ...      ...     ...       ...\n",
       "2021-03-26  55036.1  51317.4  55074.1  51302.0  100300      7.24\n",
       "2021-03-27  55862.9  55033.8  56531.1  54010.2   73870      1.50\n",
       "2021-03-28  55765.2  55856.9  56504.2  54711.3   58710     -0.17\n",
       "2021-03-29  57616.2  55764.7  58392.6  54951.1  107910      3.32\n",
       "2021-03-30  57453.3  57614.6  57752.7  57419.9  100730     -0.28\n",
       "\n",
       "[2281 rows x 6 columns]"
      ]
     },
     "execution_count": 55,
     "metadata": {},
     "output_type": "execute_result"
    }
   ],
   "source": [
    "df = pd.read_csv('Bitcoin Historical Data0330.csv')\n",
    "\n",
    "df['Date'] = pd.to_datetime(df['Date'])\n",
    "\n",
    "df1 = df.set_index(['Date'])\n",
    "#df1 = df1.loc[:, ['Price']]\n",
    "df1['Price'] = df1['Price'].str.replace(',', '').astype('float')\n",
    "df1['Open'] = df1['Open'].str.replace(',', '').astype('float')\n",
    "df1['High'] = df1['High'].str.replace(',', '').astype('float')\n",
    "df1['Low'] = df1['Low'].str.replace(',', '').astype('float')\n",
    "df1['Change %'] = df1['Change %'].str.replace('%', '').astype('float')\n",
    "\n",
    "for i in range(len(list(df1['Vol.']))):\n",
    "    if list(df1['Vol.'])[i].endswith('K'):\n",
    "        temp = list(df1['Vol.'])[i].replace('K', '')\n",
    "        df1['Vol.'][i] = float(temp) * 1000\n",
    "    else:\n",
    "        temp2 = list(df1['Vol.'])[i].replace('M', '')\n",
    "        df1['Vol.'][i] = float(temp2) * 1000000\n",
    "        \n",
    "df1['Vol.'] = df1['Vol.'].astype('int')\n",
    "\n",
    "#df1.reset_index(inplace=True)\n",
    "\n",
    "df1 = df1.loc[::-1]\n",
    "#df1 = df1.set_index(['Date'])\n",
    "df1"
   ]
  },
  {
   "cell_type": "code",
   "execution_count": null,
   "id": "imperial-alberta",
   "metadata": {},
   "outputs": [],
   "source": []
  },
  {
   "cell_type": "code",
   "execution_count": 56,
   "id": "advance-assignment",
   "metadata": {},
   "outputs": [
    {
     "data": {
      "text/plain": [
       "Price       float64\n",
       "Open        float64\n",
       "High        float64\n",
       "Low         float64\n",
       "Vol.          int32\n",
       "Change %    float64\n",
       "dtype: object"
      ]
     },
     "execution_count": 56,
     "metadata": {},
     "output_type": "execute_result"
    }
   ],
   "source": [
    "df1.dtypes"
   ]
  },
  {
   "cell_type": "code",
   "execution_count": 57,
   "id": "modular-destination",
   "metadata": {},
   "outputs": [],
   "source": [
    "df_p = df1.loc[:, ['Price']]"
   ]
  },
  {
   "cell_type": "code",
   "execution_count": 58,
   "id": "vital-preparation",
   "metadata": {},
   "outputs": [
    {
     "data": {
      "text/html": [
       "<div>\n",
       "<style scoped>\n",
       "    .dataframe tbody tr th:only-of-type {\n",
       "        vertical-align: middle;\n",
       "    }\n",
       "\n",
       "    .dataframe tbody tr th {\n",
       "        vertical-align: top;\n",
       "    }\n",
       "\n",
       "    .dataframe thead th {\n",
       "        text-align: right;\n",
       "    }\n",
       "</style>\n",
       "<table border=\"1\" class=\"dataframe\">\n",
       "  <thead>\n",
       "    <tr style=\"text-align: right;\">\n",
       "      <th></th>\n",
       "      <th>KS11</th>\n",
       "      <th>US500</th>\n",
       "    </tr>\n",
       "    <tr>\n",
       "      <th>Date</th>\n",
       "      <th></th>\n",
       "      <th></th>\n",
       "    </tr>\n",
       "  </thead>\n",
       "  <tbody>\n",
       "    <tr>\n",
       "      <th>2015-01-02</th>\n",
       "      <td>1926.44</td>\n",
       "      <td>2058.20</td>\n",
       "    </tr>\n",
       "    <tr>\n",
       "      <th>2015-01-05</th>\n",
       "      <td>1915.75</td>\n",
       "      <td>2020.58</td>\n",
       "    </tr>\n",
       "    <tr>\n",
       "      <th>2015-01-06</th>\n",
       "      <td>1882.45</td>\n",
       "      <td>2002.61</td>\n",
       "    </tr>\n",
       "    <tr>\n",
       "      <th>2015-01-07</th>\n",
       "      <td>1883.83</td>\n",
       "      <td>2025.90</td>\n",
       "    </tr>\n",
       "    <tr>\n",
       "      <th>2015-01-08</th>\n",
       "      <td>1904.65</td>\n",
       "      <td>2062.14</td>\n",
       "    </tr>\n",
       "    <tr>\n",
       "      <th>...</th>\n",
       "      <td>...</td>\n",
       "      <td>...</td>\n",
       "    </tr>\n",
       "    <tr>\n",
       "      <th>2021-03-23</th>\n",
       "      <td>3004.74</td>\n",
       "      <td>3910.52</td>\n",
       "    </tr>\n",
       "    <tr>\n",
       "      <th>2021-03-24</th>\n",
       "      <td>2996.35</td>\n",
       "      <td>3889.14</td>\n",
       "    </tr>\n",
       "    <tr>\n",
       "      <th>2021-03-25</th>\n",
       "      <td>3008.33</td>\n",
       "      <td>3909.52</td>\n",
       "    </tr>\n",
       "    <tr>\n",
       "      <th>2021-03-26</th>\n",
       "      <td>3041.01</td>\n",
       "      <td>3974.54</td>\n",
       "    </tr>\n",
       "    <tr>\n",
       "      <th>2021-03-29</th>\n",
       "      <td>3036.04</td>\n",
       "      <td>3971.09</td>\n",
       "    </tr>\n",
       "  </tbody>\n",
       "</table>\n",
       "<p>1487 rows × 2 columns</p>\n",
       "</div>"
      ],
      "text/plain": [
       "               KS11    US500\n",
       "Date                        \n",
       "2015-01-02  1926.44  2058.20\n",
       "2015-01-05  1915.75  2020.58\n",
       "2015-01-06  1882.45  2002.61\n",
       "2015-01-07  1883.83  2025.90\n",
       "2015-01-08  1904.65  2062.14\n",
       "...             ...      ...\n",
       "2021-03-23  3004.74  3910.52\n",
       "2021-03-24  2996.35  3889.14\n",
       "2021-03-25  3008.33  3909.52\n",
       "2021-03-26  3041.01  3974.54\n",
       "2021-03-29  3036.04  3971.09\n",
       "\n",
       "[1487 rows x 2 columns]"
      ]
     },
     "execution_count": 58,
     "metadata": {},
     "output_type": "execute_result"
    }
   ],
   "source": [
    "kospi= fdr.DataReader(\"KS11\",\"2015\")\n",
    "sp = fdr.DataReader(\"US500\",\"2015\")\n",
    "\n",
    "code_list = [\"KS11\",\"US500\"]\n",
    "index_list = [fdr.DataReader(code, \"2015\")[\"Close\"] for code in code_list]\n",
    "ks_sp =pd.concat(index_list,axis=1)\n",
    "\n",
    "ks_sp.columns = code_list\n",
    "ks_sp.columns\n",
    "\n",
    "ks_sp.dropna()"
   ]
  },
  {
   "cell_type": "code",
   "execution_count": 60,
   "id": "demonstrated-attempt",
   "metadata": {},
   "outputs": [
    {
     "data": {
      "text/html": [
       "<div>\n",
       "<style scoped>\n",
       "    .dataframe tbody tr th:only-of-type {\n",
       "        vertical-align: middle;\n",
       "    }\n",
       "\n",
       "    .dataframe tbody tr th {\n",
       "        vertical-align: top;\n",
       "    }\n",
       "\n",
       "    .dataframe thead th {\n",
       "        text-align: right;\n",
       "    }\n",
       "</style>\n",
       "<table border=\"1\" class=\"dataframe\">\n",
       "  <thead>\n",
       "    <tr style=\"text-align: right;\">\n",
       "      <th></th>\n",
       "      <th>KS11</th>\n",
       "      <th>US500</th>\n",
       "      <th>Bitcoin</th>\n",
       "    </tr>\n",
       "    <tr>\n",
       "      <th>Date</th>\n",
       "      <th></th>\n",
       "      <th></th>\n",
       "      <th></th>\n",
       "    </tr>\n",
       "  </thead>\n",
       "  <tbody>\n",
       "    <tr>\n",
       "      <th>2015-01-01</th>\n",
       "      <td>NaN</td>\n",
       "      <td>NaN</td>\n",
       "      <td>-1.05</td>\n",
       "    </tr>\n",
       "    <tr>\n",
       "      <th>2015-01-02</th>\n",
       "      <td>1926.44</td>\n",
       "      <td>2058.20</td>\n",
       "      <td>0.10</td>\n",
       "    </tr>\n",
       "    <tr>\n",
       "      <th>2015-01-03</th>\n",
       "      <td>NaN</td>\n",
       "      <td>NaN</td>\n",
       "      <td>-8.91</td>\n",
       "    </tr>\n",
       "    <tr>\n",
       "      <th>2015-01-04</th>\n",
       "      <td>NaN</td>\n",
       "      <td>NaN</td>\n",
       "      <td>-7.80</td>\n",
       "    </tr>\n",
       "    <tr>\n",
       "      <th>2015-01-05</th>\n",
       "      <td>1915.75</td>\n",
       "      <td>2020.58</td>\n",
       "      <td>3.82</td>\n",
       "    </tr>\n",
       "    <tr>\n",
       "      <th>...</th>\n",
       "      <td>...</td>\n",
       "      <td>...</td>\n",
       "      <td>...</td>\n",
       "    </tr>\n",
       "    <tr>\n",
       "      <th>2021-03-26</th>\n",
       "      <td>3041.01</td>\n",
       "      <td>3974.54</td>\n",
       "      <td>7.24</td>\n",
       "    </tr>\n",
       "    <tr>\n",
       "      <th>2021-03-27</th>\n",
       "      <td>NaN</td>\n",
       "      <td>NaN</td>\n",
       "      <td>1.50</td>\n",
       "    </tr>\n",
       "    <tr>\n",
       "      <th>2021-03-28</th>\n",
       "      <td>NaN</td>\n",
       "      <td>NaN</td>\n",
       "      <td>-0.17</td>\n",
       "    </tr>\n",
       "    <tr>\n",
       "      <th>2021-03-29</th>\n",
       "      <td>3036.04</td>\n",
       "      <td>3971.09</td>\n",
       "      <td>3.32</td>\n",
       "    </tr>\n",
       "    <tr>\n",
       "      <th>2021-03-30</th>\n",
       "      <td>3067.81</td>\n",
       "      <td>NaN</td>\n",
       "      <td>-0.28</td>\n",
       "    </tr>\n",
       "  </tbody>\n",
       "</table>\n",
       "<p>2281 rows × 3 columns</p>\n",
       "</div>"
      ],
      "text/plain": [
       "               KS11    US500  Bitcoin\n",
       "Date                                 \n",
       "2015-01-01      NaN      NaN    -1.05\n",
       "2015-01-02  1926.44  2058.20     0.10\n",
       "2015-01-03      NaN      NaN    -8.91\n",
       "2015-01-04      NaN      NaN    -7.80\n",
       "2015-01-05  1915.75  2020.58     3.82\n",
       "...             ...      ...      ...\n",
       "2021-03-26  3041.01  3974.54     7.24\n",
       "2021-03-27      NaN      NaN     1.50\n",
       "2021-03-28      NaN      NaN    -0.17\n",
       "2021-03-29  3036.04  3971.09     3.32\n",
       "2021-03-30  3067.81      NaN    -0.28\n",
       "\n",
       "[2281 rows x 3 columns]"
      ]
     },
     "execution_count": 60,
     "metadata": {},
     "output_type": "execute_result"
    }
   ],
   "source": [
    "coin = pd.DataFrame(df1['Change %'])\n",
    "coin.columns = ['Bitcoin']\n",
    "ks_sp_coin_price = pd.concat([ks_sp, coin], axis=1)\n",
    "ks_sp_coin_price"
   ]
  },
  {
   "cell_type": "code",
   "execution_count": 174,
   "id": "broke-geneva",
   "metadata": {},
   "outputs": [
    {
     "data": {
      "text/html": [
       "<div>\n",
       "<style scoped>\n",
       "    .dataframe tbody tr th:only-of-type {\n",
       "        vertical-align: middle;\n",
       "    }\n",
       "\n",
       "    .dataframe tbody tr th {\n",
       "        vertical-align: top;\n",
       "    }\n",
       "\n",
       "    .dataframe thead th {\n",
       "        text-align: right;\n",
       "    }\n",
       "</style>\n",
       "<table border=\"1\" class=\"dataframe\">\n",
       "  <thead>\n",
       "    <tr style=\"text-align: right;\">\n",
       "      <th></th>\n",
       "      <th>KS11</th>\n",
       "      <th>US500</th>\n",
       "      <th>Bitcoin</th>\n",
       "    </tr>\n",
       "    <tr>\n",
       "      <th>Date</th>\n",
       "      <th></th>\n",
       "      <th></th>\n",
       "      <th></th>\n",
       "    </tr>\n",
       "  </thead>\n",
       "  <tbody>\n",
       "    <tr>\n",
       "      <th>2015-01-02</th>\n",
       "      <td>1926.44</td>\n",
       "      <td>2058.20</td>\n",
       "      <td>0.10</td>\n",
       "    </tr>\n",
       "    <tr>\n",
       "      <th>2015-01-05</th>\n",
       "      <td>1915.75</td>\n",
       "      <td>2020.58</td>\n",
       "      <td>3.82</td>\n",
       "    </tr>\n",
       "    <tr>\n",
       "      <th>2015-01-06</th>\n",
       "      <td>1882.45</td>\n",
       "      <td>2002.61</td>\n",
       "      <td>2.70</td>\n",
       "    </tr>\n",
       "    <tr>\n",
       "      <th>2015-01-07</th>\n",
       "      <td>1883.83</td>\n",
       "      <td>2025.90</td>\n",
       "      <td>3.21</td>\n",
       "    </tr>\n",
       "    <tr>\n",
       "      <th>2015-01-08</th>\n",
       "      <td>1904.65</td>\n",
       "      <td>2062.14</td>\n",
       "      <td>-2.97</td>\n",
       "    </tr>\n",
       "    <tr>\n",
       "      <th>...</th>\n",
       "      <td>...</td>\n",
       "      <td>...</td>\n",
       "      <td>...</td>\n",
       "    </tr>\n",
       "    <tr>\n",
       "      <th>2021-03-23</th>\n",
       "      <td>3004.74</td>\n",
       "      <td>3910.52</td>\n",
       "      <td>0.54</td>\n",
       "    </tr>\n",
       "    <tr>\n",
       "      <th>2021-03-24</th>\n",
       "      <td>2996.35</td>\n",
       "      <td>3889.14</td>\n",
       "      <td>-3.91</td>\n",
       "    </tr>\n",
       "    <tr>\n",
       "      <th>2021-03-25</th>\n",
       "      <td>3008.33</td>\n",
       "      <td>3909.52</td>\n",
       "      <td>-1.92</td>\n",
       "    </tr>\n",
       "    <tr>\n",
       "      <th>2021-03-26</th>\n",
       "      <td>3041.01</td>\n",
       "      <td>3974.54</td>\n",
       "      <td>7.24</td>\n",
       "    </tr>\n",
       "    <tr>\n",
       "      <th>2021-03-29</th>\n",
       "      <td>3036.04</td>\n",
       "      <td>3971.09</td>\n",
       "      <td>3.32</td>\n",
       "    </tr>\n",
       "  </tbody>\n",
       "</table>\n",
       "<p>1487 rows × 3 columns</p>\n",
       "</div>"
      ],
      "text/plain": [
       "               KS11    US500  Bitcoin\n",
       "Date                                 \n",
       "2015-01-02  1926.44  2058.20     0.10\n",
       "2015-01-05  1915.75  2020.58     3.82\n",
       "2015-01-06  1882.45  2002.61     2.70\n",
       "2015-01-07  1883.83  2025.90     3.21\n",
       "2015-01-08  1904.65  2062.14    -2.97\n",
       "...             ...      ...      ...\n",
       "2021-03-23  3004.74  3910.52     0.54\n",
       "2021-03-24  2996.35  3889.14    -3.91\n",
       "2021-03-25  3008.33  3909.52    -1.92\n",
       "2021-03-26  3041.01  3974.54     7.24\n",
       "2021-03-29  3036.04  3971.09     3.32\n",
       "\n",
       "[1487 rows x 3 columns]"
      ]
     },
     "execution_count": 174,
     "metadata": {},
     "output_type": "execute_result"
    }
   ],
   "source": [
    "ks_sp_coin_price_drop = ks_sp_coin_price.dropna()\n",
    "ks_sp_coin_price_drop"
   ]
  },
  {
   "cell_type": "code",
   "execution_count": null,
   "id": "postal-raise",
   "metadata": {},
   "outputs": [],
   "source": []
  },
  {
   "cell_type": "code",
   "execution_count": 175,
   "id": "consecutive-ultimate",
   "metadata": {},
   "outputs": [
    {
     "name": "stderr",
     "output_type": "stream",
     "text": [
      "C:\\ProgramData\\Anaconda3\\lib\\site-packages\\ipykernel_launcher.py:1: SettingWithCopyWarning: \n",
      "A value is trying to be set on a copy of a slice from a DataFrame.\n",
      "Try using .loc[row_indexer,col_indexer] = value instead\n",
      "\n",
      "See the caveats in the documentation: https://pandas.pydata.org/pandas-docs/stable/user_guide/indexing.html#returning-a-view-versus-a-copy\n",
      "  \"\"\"Entry point for launching an IPython kernel.\n",
      "C:\\ProgramData\\Anaconda3\\lib\\site-packages\\ipykernel_launcher.py:2: SettingWithCopyWarning: \n",
      "A value is trying to be set on a copy of a slice from a DataFrame.\n",
      "Try using .loc[row_indexer,col_indexer] = value instead\n",
      "\n",
      "See the caveats in the documentation: https://pandas.pydata.org/pandas-docs/stable/user_guide/indexing.html#returning-a-view-versus-a-copy\n",
      "  \n"
     ]
    }
   ],
   "source": [
    "ks_sp_coin_price_drop['KS11'] = round(ks_sp_coin_price_drop['KS11'].pct_change() * 100, 3)\n",
    "ks_sp_coin_price_drop['US500'] = round(ks_sp_coin_price_drop['US500'].pct_change() * 100, 3)"
   ]
  },
  {
   "cell_type": "code",
   "execution_count": 178,
   "id": "historical-cotton",
   "metadata": {},
   "outputs": [],
   "source": [
    "ks_sp_coin_price_drop = ks_sp_coin_price_drop.dropna()"
   ]
  },
  {
   "cell_type": "code",
   "execution_count": 267,
   "id": "disturbed-senegal",
   "metadata": {},
   "outputs": [],
   "source": [
    "ks_sp_coin_price1 = ks_sp_coin_price_drop.loc['2015-01-01':'2017-10-31']\n",
    "ks_sp_coin_price2 = ks_sp_coin_price_drop.loc['2017-11-01':'2019-12-31']\n",
    "ks_sp_coin_price3 = ks_sp_coin_price_drop.loc['2020-01-01':'2021-03-30']"
   ]
  },
  {
   "cell_type": "markdown",
   "id": "straight-adaptation",
   "metadata": {},
   "source": [
    "# 1기 US500-Bitcoin 예측"
   ]
  },
  {
   "cell_type": "code",
   "execution_count": 268,
   "id": "chicken-buffer",
   "metadata": {},
   "outputs": [
    {
     "name": "stdout",
     "output_type": "stream",
     "text": [
      "ADF test statistic: -25.86954788180757\n",
      "p-value: 0.0\n"
     ]
    }
   ],
   "source": [
    "adfuller_test = adfuller(ks_sp_coin_price1['KS11'].dropna(), autolag= \"AIC\")\n",
    "print(\"ADF test statistic: {}\".format(adfuller_test[0]))\n",
    "print(\"p-value: {}\".format(adfuller_test[1]))"
   ]
  },
  {
   "cell_type": "code",
   "execution_count": 269,
   "id": "given-bhutan",
   "metadata": {},
   "outputs": [
    {
     "name": "stdout",
     "output_type": "stream",
     "text": [
      "ADF test statistic: -15.131644035819775\n",
      "p-value: 7.217581038203577e-28\n"
     ]
    }
   ],
   "source": [
    "adfuller_test = adfuller(ks_sp_coin_price1['US500'].dropna(), autolag= \"AIC\")\n",
    "print(\"ADF test statistic: {}\".format(adfuller_test[0]))\n",
    "print(\"p-value: {}\".format(adfuller_test[1]))"
   ]
  },
  {
   "cell_type": "code",
   "execution_count": 270,
   "id": "different-tragedy",
   "metadata": {},
   "outputs": [
    {
     "name": "stdout",
     "output_type": "stream",
     "text": [
      "ADF test statistic: -20.73241883029436\n",
      "p-value: 0.0\n"
     ]
    }
   ],
   "source": [
    "adfuller_test = adfuller(ks_sp_coin_price1['Bitcoin'].dropna(), autolag= \"AIC\")\n",
    "print(\"ADF test statistic: {}\".format(adfuller_test[0]))\n",
    "print(\"p-value: {}\".format(adfuller_test[1]))"
   ]
  },
  {
   "cell_type": "code",
   "execution_count": 271,
   "id": "italic-chorus",
   "metadata": {},
   "outputs": [],
   "source": [
    "mydata_diff1 = ks_sp_coin_price1.diff().dropna()"
   ]
  },
  {
   "cell_type": "code",
   "execution_count": 272,
   "id": "adverse-showcase",
   "metadata": {},
   "outputs": [
    {
     "data": {
      "text/html": [
       "<div>\n",
       "<style scoped>\n",
       "    .dataframe tbody tr th:only-of-type {\n",
       "        vertical-align: middle;\n",
       "    }\n",
       "\n",
       "    .dataframe tbody tr th {\n",
       "        vertical-align: top;\n",
       "    }\n",
       "\n",
       "    .dataframe thead th {\n",
       "        text-align: right;\n",
       "    }\n",
       "</style>\n",
       "<table border=\"1\" class=\"dataframe\">\n",
       "  <thead>\n",
       "    <tr style=\"text-align: right;\">\n",
       "      <th></th>\n",
       "      <th>KS11</th>\n",
       "      <th>US500</th>\n",
       "      <th>Bitcoin</th>\n",
       "    </tr>\n",
       "    <tr>\n",
       "      <th>Date</th>\n",
       "      <th></th>\n",
       "      <th></th>\n",
       "      <th></th>\n",
       "    </tr>\n",
       "  </thead>\n",
       "  <tbody>\n",
       "    <tr>\n",
       "      <th>2015-01-06</th>\n",
       "      <td>-1.183</td>\n",
       "      <td>0.939</td>\n",
       "      <td>-1.12</td>\n",
       "    </tr>\n",
       "    <tr>\n",
       "      <th>2015-01-07</th>\n",
       "      <td>1.811</td>\n",
       "      <td>2.052</td>\n",
       "      <td>0.51</td>\n",
       "    </tr>\n",
       "    <tr>\n",
       "      <th>2015-01-08</th>\n",
       "      <td>1.032</td>\n",
       "      <td>0.626</td>\n",
       "      <td>-6.18</td>\n",
       "    </tr>\n",
       "    <tr>\n",
       "      <th>2015-01-09</th>\n",
       "      <td>-0.052</td>\n",
       "      <td>-2.629</td>\n",
       "      <td>4.84</td>\n",
       "    </tr>\n",
       "    <tr>\n",
       "      <th>2015-01-12</th>\n",
       "      <td>-1.248</td>\n",
       "      <td>0.031</td>\n",
       "      <td>-0.15</td>\n",
       "    </tr>\n",
       "    <tr>\n",
       "      <th>...</th>\n",
       "      <td>...</td>\n",
       "      <td>...</td>\n",
       "      <td>...</td>\n",
       "    </tr>\n",
       "    <tr>\n",
       "      <th>2017-10-25</th>\n",
       "      <td>0.063</td>\n",
       "      <td>-0.628</td>\n",
       "      <td>10.63</td>\n",
       "    </tr>\n",
       "    <tr>\n",
       "      <th>2017-10-26</th>\n",
       "      <td>-0.557</td>\n",
       "      <td>0.593</td>\n",
       "      <td>-1.33</td>\n",
       "    </tr>\n",
       "    <tr>\n",
       "      <th>2017-10-27</th>\n",
       "      <td>1.121</td>\n",
       "      <td>0.680</td>\n",
       "      <td>-4.77</td>\n",
       "    </tr>\n",
       "    <tr>\n",
       "      <th>2017-10-30</th>\n",
       "      <td>-0.433</td>\n",
       "      <td>-1.126</td>\n",
       "      <td>1.71</td>\n",
       "    </tr>\n",
       "    <tr>\n",
       "      <th>2017-10-31</th>\n",
       "      <td>0.647</td>\n",
       "      <td>0.413</td>\n",
       "      <td>5.72</td>\n",
       "    </tr>\n",
       "  </tbody>\n",
       "</table>\n",
       "<p>673 rows × 3 columns</p>\n",
       "</div>"
      ],
      "text/plain": [
       "             KS11  US500  Bitcoin\n",
       "Date                             \n",
       "2015-01-06 -1.183  0.939    -1.12\n",
       "2015-01-07  1.811  2.052     0.51\n",
       "2015-01-08  1.032  0.626    -6.18\n",
       "2015-01-09 -0.052 -2.629     4.84\n",
       "2015-01-12 -1.248  0.031    -0.15\n",
       "...           ...    ...      ...\n",
       "2017-10-25  0.063 -0.628    10.63\n",
       "2017-10-26 -0.557  0.593    -1.33\n",
       "2017-10-27  1.121  0.680    -4.77\n",
       "2017-10-30 -0.433 -1.126     1.71\n",
       "2017-10-31  0.647  0.413     5.72\n",
       "\n",
       "[673 rows x 3 columns]"
      ]
     },
     "execution_count": 272,
     "metadata": {},
     "output_type": "execute_result"
    }
   ],
   "source": [
    "mydata_diff1"
   ]
  },
  {
   "cell_type": "code",
   "execution_count": 273,
   "id": "adequate-beast",
   "metadata": {},
   "outputs": [
    {
     "name": "stdout",
     "output_type": "stream",
     "text": [
      "ADF test statistic: -11.656668908517373\n",
      "p-value: 1.9778772018459484e-21\n"
     ]
    }
   ],
   "source": [
    "adfuller_test = adfuller(mydata_diff1['KS11'], autolag= \"AIC\")\n",
    "print(\"ADF test statistic: {}\".format(adfuller_test[0]))\n",
    "print(\"p-value: {}\".format(adfuller_test[1]))"
   ]
  },
  {
   "cell_type": "code",
   "execution_count": 274,
   "id": "sized-gardening",
   "metadata": {},
   "outputs": [
    {
     "name": "stdout",
     "output_type": "stream",
     "text": [
      "ADF test statistic: -11.904206578687537\n",
      "p-value: 5.484712698105011e-22\n"
     ]
    }
   ],
   "source": [
    "adfuller_test = adfuller(mydata_diff1['US500'], autolag= \"AIC\")\n",
    "print(\"ADF test statistic: {}\".format(adfuller_test[0]))\n",
    "print(\"p-value: {}\".format(adfuller_test[1]))"
   ]
  },
  {
   "cell_type": "code",
   "execution_count": 275,
   "id": "processed-triumph",
   "metadata": {},
   "outputs": [
    {
     "name": "stdout",
     "output_type": "stream",
     "text": [
      "ADF test statistic: -11.689092661316378\n",
      "p-value: 1.669411262931339e-21\n"
     ]
    }
   ],
   "source": [
    "adfuller_test = adfuller(mydata_diff1['Bitcoin'], autolag= \"AIC\")\n",
    "print(\"ADF test statistic: {}\".format(adfuller_test[0]))\n",
    "print(\"p-value: {}\".format(adfuller_test[1]))"
   ]
  },
  {
   "cell_type": "code",
   "execution_count": 276,
   "id": "essential-paint",
   "metadata": {},
   "outputs": [],
   "source": [
    "mydata_diff2 = mydata_diff1.loc[:, ['US500', 'Bitcoin']]"
   ]
  },
  {
   "cell_type": "code",
   "execution_count": 277,
   "id": "accepting-barcelona",
   "metadata": {},
   "outputs": [],
   "source": [
    "train = mydata_diff2.iloc[:-10,:]\n",
    "test = mydata_diff2[-10:]"
   ]
  },
  {
   "cell_type": "code",
   "execution_count": null,
   "id": "distributed-darwin",
   "metadata": {},
   "outputs": [],
   "source": []
  },
  {
   "cell_type": "code",
   "execution_count": 278,
   "id": "prepared-parks",
   "metadata": {},
   "outputs": [
    {
     "name": "stderr",
     "output_type": "stream",
     "text": [
      "C:\\ProgramData\\Anaconda3\\lib\\site-packages\\statsmodels\\tsa\\base\\tsa_model.py:583: ValueWarning: A date index has been provided, but it has no associated frequency information and so will be ignored when e.g. forecasting.\n",
      "  ' ignored when e.g. forecasting.', ValueWarning)\n"
     ]
    }
   ],
   "source": [
    "forecasting_model = VAR(train)\n",
    "results_aic = []\n",
    "for p in range(1,50):\n",
    "  results = forecasting_model.fit(p)\n",
    "  results_aic.append(results.aic)"
   ]
  },
  {
   "cell_type": "code",
   "execution_count": 279,
   "id": "electronic-solution",
   "metadata": {},
   "outputs": [
    {
     "data": {
      "image/png": "[encoded data removed]",
      "text/plain": [
       "<Figure size 432x288 with 1 Axes>"
      ]
     },
     "metadata": {},
     "output_type": "display_data"
    }
   ],
   "source": [
    "sns.set()\n",
    "plt.plot(list(np.arange(1,50,1)), results_aic)\n",
    "plt.xlabel(\"Order\")\n",
    "plt.ylabel(\"AIC\")\n",
    "plt.show()"
   ]
  },
  {
   "cell_type": "code",
   "execution_count": 280,
   "id": "joint-guarantee",
   "metadata": {},
   "outputs": [
    {
     "data": {
      "text/plain": [
       "  Summary of Regression Results   \n",
       "==================================\n",
       "Model:                         VAR\n",
       "Method:                        OLS\n",
       "Date:           Tue, 30, Mar, 2021\n",
       "Time:                     15:28:34\n",
       "--------------------------------------------------------------------\n",
       "No. of Equations:         2.00000    BIC:                    2.92865\n",
       "Nobs:                     643.000    HQIC:                   2.58012\n",
       "Log likelihood:          -2501.20    FPE:                    10.5850\n",
       "AIC:                      2.35909    Det(Omega_mle):         9.35408\n",
       "--------------------------------------------------------------------\n",
       "Results for equation US500\n",
       "==============================================================================\n",
       "                 coefficient       std. error           t-stat            prob\n",
       "------------------------------------------------------------------------------\n",
       "const               0.001463         0.032499            0.045           0.964\n",
       "L1.US500           -1.002209         0.040623          -24.671           0.000\n",
       "L1.Bitcoin          0.008633         0.008996            0.960           0.337\n",
       "L2.US500           -1.021151         0.056880          -17.953           0.000\n",
       "L2.Bitcoin          0.022107         0.012242            1.806           0.071\n",
       "L3.US500           -1.035733         0.069277          -14.951           0.000\n",
       "L3.Bitcoin          0.035763         0.014948            2.393           0.017\n",
       "L4.US500           -1.027922         0.079532          -12.925           0.000\n",
       "L4.Bitcoin          0.036386         0.016924            2.150           0.032\n",
       "L5.US500           -0.959760         0.087790          -10.932           0.000\n",
       "L5.Bitcoin          0.034531         0.018537            1.863           0.062\n",
       "L6.US500           -0.951764         0.094018          -10.123           0.000\n",
       "L6.Bitcoin          0.026029         0.019561            1.331           0.183\n",
       "L7.US500           -0.866154         0.099504           -8.705           0.000\n",
       "L7.Bitcoin          0.017836         0.020487            0.871           0.384\n",
       "L8.US500           -0.809376         0.103443           -7.824           0.000\n",
       "L8.Bitcoin          0.011810         0.021189            0.557           0.577\n",
       "L9.US500           -0.784722         0.105948           -7.407           0.000\n",
       "L9.Bitcoin          0.012877         0.021757            0.592           0.554\n",
       "L10.US500          -0.774528         0.107519           -7.204           0.000\n",
       "L10.Bitcoin         0.015900         0.022186            0.717           0.474\n",
       "L11.US500          -0.676448         0.107749           -6.278           0.000\n",
       "L11.Bitcoin         0.026022         0.022280            1.168           0.243\n",
       "L12.US500          -0.623084         0.106473           -5.852           0.000\n",
       "L12.Bitcoin         0.016388         0.021909            0.748           0.454\n",
       "L13.US500          -0.562529         0.104373           -5.390           0.000\n",
       "L13.Bitcoin         0.001409         0.020893            0.067           0.946\n",
       "L14.US500          -0.541377         0.100646           -5.379           0.000\n",
       "L14.Bitcoin         0.005320         0.019834            0.268           0.789\n",
       "L15.US500          -0.504084         0.094979           -5.307           0.000\n",
       "L15.Bitcoin         0.010574         0.018738            0.564           0.573\n",
       "L16.US500          -0.477166         0.088472           -5.393           0.000\n",
       "L16.Bitcoin         0.008449         0.017665            0.478           0.632\n",
       "L17.US500          -0.366545         0.079684           -4.600           0.000\n",
       "L17.Bitcoin         0.019129         0.016533            1.157           0.247\n",
       "L18.US500          -0.312798         0.069138           -4.524           0.000\n",
       "L18.Bitcoin         0.009826         0.014791            0.664           0.506\n",
       "L19.US500          -0.192212         0.056386           -3.409           0.001\n",
       "L19.Bitcoin         0.008865         0.011965            0.741           0.459\n",
       "L20.US500          -0.034245         0.039972           -0.857           0.392\n",
       "L20.Bitcoin        -0.001804         0.008569           -0.211           0.833\n",
       "==============================================================================\n",
       "\n",
       "Results for equation Bitcoin\n",
       "==============================================================================\n",
       "                 coefficient       std. error           t-stat            prob\n",
       "------------------------------------------------------------------------------\n",
       "const               0.042024         0.146506            0.287           0.774\n",
       "L1.US500            0.034863         0.183126            0.190           0.849\n",
       "L1.Bitcoin         -0.924274         0.040555          -22.790           0.000\n",
       "L2.US500            0.037962         0.256414            0.148           0.882\n",
       "L2.Bitcoin         -0.959841         0.055187          -17.393           0.000\n",
       "L3.US500            0.195534         0.312301            0.626           0.531\n",
       "L3.Bitcoin         -0.893851         0.067384          -13.265           0.000\n",
       "L4.US500            0.097554         0.358531            0.272           0.786\n",
       "L4.Bitcoin         -0.886842         0.076295          -11.624           0.000\n",
       "L5.US500            0.347805         0.395757            0.879           0.379\n",
       "L5.Bitcoin         -0.814174         0.083563           -9.743           0.000\n",
       "L6.US500            0.535054         0.423834            1.262           0.207\n",
       "L6.Bitcoin         -0.829635         0.088180           -9.408           0.000\n",
       "L7.US500            0.895706         0.448561            1.997           0.046\n",
       "L7.Bitcoin         -0.784483         0.092354           -8.494           0.000\n",
       "L8.US500            1.136883         0.466317            2.438           0.015\n",
       "L8.Bitcoin         -0.716736         0.095518           -7.504           0.000\n",
       "L9.US500            1.050094         0.477614            2.199           0.028\n",
       "L9.Bitcoin         -0.717002         0.098081           -7.310           0.000\n",
       "L10.US500           1.008782         0.484694            2.081           0.037\n",
       "L10.Bitcoin        -0.596288         0.100015           -5.962           0.000\n",
       "L11.US500           1.013024         0.485732            2.086           0.037\n",
       "L11.Bitcoin        -0.573591         0.100438           -5.711           0.000\n",
       "L12.US500           1.027103         0.479979            2.140           0.032\n",
       "L12.Bitcoin        -0.451792         0.098763           -4.574           0.000\n",
       "L13.US500           1.117138         0.470510            2.374           0.018\n",
       "L13.Bitcoin        -0.422977         0.094186           -4.491           0.000\n",
       "L14.US500           0.934493         0.453709            2.060           0.039\n",
       "L14.Bitcoin        -0.427016         0.089410           -4.776           0.000\n",
       "L15.US500           0.914717         0.428164            2.136           0.033\n",
       "L15.Bitcoin        -0.387842         0.084470           -4.591           0.000\n",
       "L16.US500           0.681658         0.398832            1.709           0.087\n",
       "L16.Bitcoin        -0.307903         0.079633           -3.867           0.000\n",
       "L17.US500           0.844675         0.359216            2.351           0.019\n",
       "L17.Bitcoin        -0.233301         0.074531           -3.130           0.002\n",
       "L18.US500           0.581290         0.311671            1.865           0.062\n",
       "L18.Bitcoin        -0.139628         0.066676           -2.094           0.036\n",
       "L19.US500           0.338209         0.254186            1.331           0.183\n",
       "L19.Bitcoin        -0.100088         0.053940           -1.856           0.064\n",
       "L20.US500           0.130114         0.180193            0.722           0.470\n",
       "L20.Bitcoin        -0.059508         0.038628           -1.541           0.123\n",
       "==============================================================================\n",
       "\n",
       "Correlation matrix of residuals\n",
       "              US500   Bitcoin\n",
       "US500      1.000000  0.005916\n",
       "Bitcoin    0.005916  1.000000\n",
       "\n"
      ]
     },
     "execution_count": 280,
     "metadata": {},
     "output_type": "execute_result"
    }
   ],
   "source": [
    "results = forecasting_model.fit(20)\n",
    "results.summary()"
   ]
  },
  {
   "cell_type": "code",
   "execution_count": null,
   "id": "focal-maintenance",
   "metadata": {},
   "outputs": [],
   "source": []
  },
  {
   "cell_type": "code",
   "execution_count": 281,
   "id": "frequent-expert",
   "metadata": {},
   "outputs": [
    {
     "data": {
      "text/html": [
       "<div>\n",
       "<style scoped>\n",
       "    .dataframe tbody tr th:only-of-type {\n",
       "        vertical-align: middle;\n",
       "    }\n",
       "\n",
       "    .dataframe tbody tr th {\n",
       "        vertical-align: top;\n",
       "    }\n",
       "\n",
       "    .dataframe thead th {\n",
       "        text-align: right;\n",
       "    }\n",
       "</style>\n",
       "<table border=\"1\" class=\"dataframe\">\n",
       "  <thead>\n",
       "    <tr style=\"text-align: right;\">\n",
       "      <th></th>\n",
       "      <th>realUS500_1d</th>\n",
       "      <th>realBIT_1d</th>\n",
       "    </tr>\n",
       "    <tr>\n",
       "      <th>Date</th>\n",
       "      <th></th>\n",
       "      <th></th>\n",
       "    </tr>\n",
       "  </thead>\n",
       "  <tbody>\n",
       "    <tr>\n",
       "      <th>2017-10-18</th>\n",
       "      <td>0.605596</td>\n",
       "      <td>2.842289</td>\n",
       "    </tr>\n",
       "    <tr>\n",
       "      <th>2017-10-19</th>\n",
       "      <td>-0.567647</td>\n",
       "      <td>4.212083</td>\n",
       "    </tr>\n",
       "    <tr>\n",
       "      <th>2017-10-20</th>\n",
       "      <td>-0.151885</td>\n",
       "      <td>-3.633287</td>\n",
       "    </tr>\n",
       "    <tr>\n",
       "      <th>2017-10-23</th>\n",
       "      <td>-0.111427</td>\n",
       "      <td>-0.083788</td>\n",
       "    </tr>\n",
       "    <tr>\n",
       "      <th>2017-10-24</th>\n",
       "      <td>-0.025461</td>\n",
       "      <td>1.347498</td>\n",
       "    </tr>\n",
       "    <tr>\n",
       "      <th>2017-10-25</th>\n",
       "      <td>0.618761</td>\n",
       "      <td>-0.673202</td>\n",
       "    </tr>\n",
       "    <tr>\n",
       "      <th>2017-10-26</th>\n",
       "      <td>-0.072772</td>\n",
       "      <td>1.040803</td>\n",
       "    </tr>\n",
       "    <tr>\n",
       "      <th>2017-10-27</th>\n",
       "      <td>-0.115899</td>\n",
       "      <td>-0.075974</td>\n",
       "    </tr>\n",
       "    <tr>\n",
       "      <th>2017-10-30</th>\n",
       "      <td>-0.144593</td>\n",
       "      <td>0.530116</td>\n",
       "    </tr>\n",
       "    <tr>\n",
       "      <th>2017-10-31</th>\n",
       "      <td>-0.354907</td>\n",
       "      <td>-0.840730</td>\n",
       "    </tr>\n",
       "  </tbody>\n",
       "</table>\n",
       "</div>"
      ],
      "text/plain": [
       "            realUS500_1d  realBIT_1d\n",
       "Date                                \n",
       "2017-10-18      0.605596    2.842289\n",
       "2017-10-19     -0.567647    4.212083\n",
       "2017-10-20     -0.151885   -3.633287\n",
       "2017-10-23     -0.111427   -0.083788\n",
       "2017-10-24     -0.025461    1.347498\n",
       "2017-10-25      0.618761   -0.673202\n",
       "2017-10-26     -0.072772    1.040803\n",
       "2017-10-27     -0.115899   -0.075974\n",
       "2017-10-30     -0.144593    0.530116\n",
       "2017-10-31     -0.354907   -0.840730"
      ]
     },
     "execution_count": 281,
     "metadata": {},
     "output_type": "execute_result"
    }
   ],
   "source": [
    "laaged_values = train.values[-20:]\n",
    "forecast = pd.DataFrame(results.forecast(y= laaged_values, steps=10), index = test.index, columns= ['realUS500_1d', 'realBIT_1d'])\n",
    "forecast"
   ]
  },
  {
   "cell_type": "code",
   "execution_count": 282,
   "id": "adjusted-browse",
   "metadata": {},
   "outputs": [
    {
     "data": {
      "text/html": [
       "<div>\n",
       "<style scoped>\n",
       "    .dataframe tbody tr th:only-of-type {\n",
       "        vertical-align: middle;\n",
       "    }\n",
       "\n",
       "    .dataframe tbody tr th {\n",
       "        vertical-align: top;\n",
       "    }\n",
       "\n",
       "    .dataframe thead th {\n",
       "        text-align: right;\n",
       "    }\n",
       "</style>\n",
       "<table border=\"1\" class=\"dataframe\">\n",
       "  <thead>\n",
       "    <tr style=\"text-align: right;\">\n",
       "      <th></th>\n",
       "      <th>realUS500_1d</th>\n",
       "      <th>realBIT_1d</th>\n",
       "      <th>realUS500_forecasted</th>\n",
       "      <th>realBIT_forecasted</th>\n",
       "    </tr>\n",
       "    <tr>\n",
       "      <th>Date</th>\n",
       "      <th></th>\n",
       "      <th></th>\n",
       "      <th></th>\n",
       "      <th></th>\n",
       "    </tr>\n",
       "  </thead>\n",
       "  <tbody>\n",
       "    <tr>\n",
       "      <th>2017-10-18</th>\n",
       "      <td>0.605596</td>\n",
       "      <td>2.842289</td>\n",
       "      <td>0.672596</td>\n",
       "      <td>0.052289</td>\n",
       "    </tr>\n",
       "    <tr>\n",
       "      <th>2017-10-19</th>\n",
       "      <td>-0.567647</td>\n",
       "      <td>4.212083</td>\n",
       "      <td>0.104949</td>\n",
       "      <td>4.264372</td>\n",
       "    </tr>\n",
       "    <tr>\n",
       "      <th>2017-10-20</th>\n",
       "      <td>-0.151885</td>\n",
       "      <td>-3.633287</td>\n",
       "      <td>-0.046936</td>\n",
       "      <td>0.631085</td>\n",
       "    </tr>\n",
       "    <tr>\n",
       "      <th>2017-10-23</th>\n",
       "      <td>-0.111427</td>\n",
       "      <td>-0.083788</td>\n",
       "      <td>-0.158364</td>\n",
       "      <td>0.547297</td>\n",
       "    </tr>\n",
       "    <tr>\n",
       "      <th>2017-10-24</th>\n",
       "      <td>-0.025461</td>\n",
       "      <td>1.347498</td>\n",
       "      <td>-0.183825</td>\n",
       "      <td>1.894795</td>\n",
       "    </tr>\n",
       "    <tr>\n",
       "      <th>2017-10-25</th>\n",
       "      <td>0.618761</td>\n",
       "      <td>-0.673202</td>\n",
       "      <td>0.434937</td>\n",
       "      <td>1.221593</td>\n",
       "    </tr>\n",
       "    <tr>\n",
       "      <th>2017-10-26</th>\n",
       "      <td>-0.072772</td>\n",
       "      <td>1.040803</td>\n",
       "      <td>0.362165</td>\n",
       "      <td>2.262396</td>\n",
       "    </tr>\n",
       "    <tr>\n",
       "      <th>2017-10-27</th>\n",
       "      <td>-0.115899</td>\n",
       "      <td>-0.075974</td>\n",
       "      <td>0.246266</td>\n",
       "      <td>2.186422</td>\n",
       "    </tr>\n",
       "    <tr>\n",
       "      <th>2017-10-30</th>\n",
       "      <td>-0.144593</td>\n",
       "      <td>0.530116</td>\n",
       "      <td>0.101672</td>\n",
       "      <td>2.716538</td>\n",
       "    </tr>\n",
       "    <tr>\n",
       "      <th>2017-10-31</th>\n",
       "      <td>-0.354907</td>\n",
       "      <td>-0.840730</td>\n",
       "      <td>-0.253234</td>\n",
       "      <td>1.875808</td>\n",
       "    </tr>\n",
       "  </tbody>\n",
       "</table>\n",
       "</div>"
      ],
      "text/plain": [
       "            realUS500_1d  realBIT_1d  realUS500_forecasted  realBIT_forecasted\n",
       "Date                                                                          \n",
       "2017-10-18      0.605596    2.842289              0.672596            0.052289\n",
       "2017-10-19     -0.567647    4.212083              0.104949            4.264372\n",
       "2017-10-20     -0.151885   -3.633287             -0.046936            0.631085\n",
       "2017-10-23     -0.111427   -0.083788             -0.158364            0.547297\n",
       "2017-10-24     -0.025461    1.347498             -0.183825            1.894795\n",
       "2017-10-25      0.618761   -0.673202              0.434937            1.221593\n",
       "2017-10-26     -0.072772    1.040803              0.362165            2.262396\n",
       "2017-10-27     -0.115899   -0.075974              0.246266            2.186422\n",
       "2017-10-30     -0.144593    0.530116              0.101672            2.716538\n",
       "2017-10-31     -0.354907   -0.840730             -0.253234            1.875808"
      ]
     },
     "execution_count": 282,
     "metadata": {},
     "output_type": "execute_result"
    }
   ],
   "source": [
    "forecast[\"realUS500_forecasted\"] = ks_sp_coin_price1['US500'].dropna().iloc[-10-1] + forecast['realUS500_1d'].cumsum()\n",
    "forecast[\"realBIT_forecasted\"] = ks_sp_coin_price1['Bitcoin'].dropna().iloc[-10-1] + forecast['realBIT_1d'].cumsum() \n",
    "forecast"
   ]
  },
  {
   "cell_type": "code",
   "execution_count": 283,
   "id": "stuffed-somewhere",
   "metadata": {},
   "outputs": [
    {
     "name": "stderr",
     "output_type": "stream",
     "text": [
      "C:\\ProgramData\\Anaconda3\\lib\\site-packages\\ipykernel_launcher.py:2: SettingWithCopyWarning: \n",
      "A value is trying to be set on a copy of a slice from a DataFrame.\n",
      "Try using .loc[row_indexer,col_indexer] = value instead\n",
      "\n",
      "See the caveats in the documentation: https://pandas.pydata.org/pandas-docs/stable/user_guide/indexing.html#returning-a-view-versus-a-copy\n",
      "  \n",
      "C:\\ProgramData\\Anaconda3\\lib\\site-packages\\ipykernel_launcher.py:3: SettingWithCopyWarning: \n",
      "A value is trying to be set on a copy of a slice from a DataFrame.\n",
      "Try using .loc[row_indexer,col_indexer] = value instead\n",
      "\n",
      "See the caveats in the documentation: https://pandas.pydata.org/pandas-docs/stable/user_guide/indexing.html#returning-a-view-versus-a-copy\n",
      "  This is separate from the ipykernel package so we can avoid doing imports until\n"
     ]
    },
    {
     "data": {
      "text/plain": [
       "<AxesSubplot:xlabel='Date'>"
      ]
     },
     "execution_count": 283,
     "metadata": {},
     "output_type": "execute_result"
    },
    {
     "data": {
      "image/png": "[encoded data removed]",
      "text/plain": [
       "<Figure size 432x288 with 1 Axes>"
      ]
     },
     "metadata": {},
     "output_type": "display_data"
    }
   ],
   "source": [
    "test = mydata_diff2[-10:]\n",
    "test[\"realUS500_forecasted\"] = forecast[\"realUS500_forecasted\"]\n",
    "test[\"realBIT_forecasted\"] = forecast[\"realBIT_forecasted\"]\n",
    "\n",
    "test.plot(ylim = (-10,10))\n",
    "\n",
    "#test\n",
    "#test.plot()"
   ]
  },
  {
   "cell_type": "markdown",
   "id": "absent-thousand",
   "metadata": {},
   "source": [
    "# 2기 US500-Bitcoin 예측"
   ]
  },
  {
   "cell_type": "code",
   "execution_count": 284,
   "id": "liked-entertainment",
   "metadata": {},
   "outputs": [
    {
     "name": "stdout",
     "output_type": "stream",
     "text": [
      "ADF test statistic: -13.920233417201658\n",
      "p-value: 5.312112621733402e-26\n"
     ]
    }
   ],
   "source": [
    "adfuller_test = adfuller(ks_sp_coin_price2['KS11'].dropna(), autolag= \"AIC\")\n",
    "print(\"ADF test statistic: {}\".format(adfuller_test[0]))\n",
    "print(\"p-value: {}\".format(adfuller_test[1]))"
   ]
  },
  {
   "cell_type": "code",
   "execution_count": 285,
   "id": "asian-compensation",
   "metadata": {},
   "outputs": [
    {
     "name": "stdout",
     "output_type": "stream",
     "text": [
      "ADF test statistic: -11.542605998844811\n",
      "p-value: 3.6040937574832176e-21\n"
     ]
    }
   ],
   "source": [
    "adfuller_test = adfuller(ks_sp_coin_price2['US500'].dropna(), autolag= \"AIC\")\n",
    "print(\"ADF test statistic: {}\".format(adfuller_test[0]))\n",
    "print(\"p-value: {}\".format(adfuller_test[1]))"
   ]
  },
  {
   "cell_type": "code",
   "execution_count": 286,
   "id": "coastal-panel",
   "metadata": {},
   "outputs": [
    {
     "name": "stdout",
     "output_type": "stream",
     "text": [
      "ADF test statistic: -11.083992358052626\n",
      "p-value: 4.2417499632057556e-20\n"
     ]
    }
   ],
   "source": [
    "adfuller_test = adfuller(ks_sp_coin_price2['Bitcoin'].dropna(), autolag= \"AIC\")\n",
    "print(\"ADF test statistic: {}\".format(adfuller_test[0]))\n",
    "print(\"p-value: {}\".format(adfuller_test[1]))"
   ]
  },
  {
   "cell_type": "code",
   "execution_count": 287,
   "id": "attempted-graduate",
   "metadata": {},
   "outputs": [
    {
     "data": {
      "text/html": [
       "<div>\n",
       "<style scoped>\n",
       "    .dataframe tbody tr th:only-of-type {\n",
       "        vertical-align: middle;\n",
       "    }\n",
       "\n",
       "    .dataframe tbody tr th {\n",
       "        vertical-align: top;\n",
       "    }\n",
       "\n",
       "    .dataframe thead th {\n",
       "        text-align: right;\n",
       "    }\n",
       "</style>\n",
       "<table border=\"1\" class=\"dataframe\">\n",
       "  <thead>\n",
       "    <tr style=\"text-align: right;\">\n",
       "      <th></th>\n",
       "      <th>KS11</th>\n",
       "      <th>US500</th>\n",
       "      <th>Bitcoin</th>\n",
       "    </tr>\n",
       "    <tr>\n",
       "      <th>Date</th>\n",
       "      <th></th>\n",
       "      <th></th>\n",
       "      <th></th>\n",
       "    </tr>\n",
       "  </thead>\n",
       "  <tbody>\n",
       "    <tr>\n",
       "      <th>2017-11-02</th>\n",
       "      <td>-1.704</td>\n",
       "      <td>-0.140</td>\n",
       "      <td>-0.18</td>\n",
       "    </tr>\n",
       "    <tr>\n",
       "      <th>2017-11-03</th>\n",
       "      <td>0.851</td>\n",
       "      <td>0.291</td>\n",
       "      <td>-2.45</td>\n",
       "    </tr>\n",
       "    <tr>\n",
       "      <th>2017-11-06</th>\n",
       "      <td>-0.791</td>\n",
       "      <td>-0.183</td>\n",
       "      <td>-7.63</td>\n",
       "    </tr>\n",
       "    <tr>\n",
       "      <th>2017-11-07</th>\n",
       "      <td>0.179</td>\n",
       "      <td>-0.146</td>\n",
       "      <td>7.88</td>\n",
       "    </tr>\n",
       "    <tr>\n",
       "      <th>2017-11-08</th>\n",
       "      <td>0.429</td>\n",
       "      <td>0.163</td>\n",
       "      <td>2.75</td>\n",
       "    </tr>\n",
       "    <tr>\n",
       "      <th>...</th>\n",
       "      <td>...</td>\n",
       "      <td>...</td>\n",
       "      <td>...</td>\n",
       "    </tr>\n",
       "    <tr>\n",
       "      <th>2019-12-23</th>\n",
       "      <td>-0.368</td>\n",
       "      <td>-0.407</td>\n",
       "      <td>-2.74</td>\n",
       "    </tr>\n",
       "    <tr>\n",
       "      <th>2019-12-24</th>\n",
       "      <td>-0.598</td>\n",
       "      <td>-0.107</td>\n",
       "      <td>1.57</td>\n",
       "    </tr>\n",
       "    <tr>\n",
       "      <th>2019-12-26</th>\n",
       "      <td>0.977</td>\n",
       "      <td>0.533</td>\n",
       "      <td>0.55</td>\n",
       "    </tr>\n",
       "    <tr>\n",
       "      <th>2019-12-27</th>\n",
       "      <td>-0.072</td>\n",
       "      <td>-0.510</td>\n",
       "      <td>0.89</td>\n",
       "    </tr>\n",
       "    <tr>\n",
       "      <th>2019-12-30</th>\n",
       "      <td>-0.583</td>\n",
       "      <td>-0.581</td>\n",
       "      <td>-2.54</td>\n",
       "    </tr>\n",
       "  </tbody>\n",
       "</table>\n",
       "<p>514 rows × 3 columns</p>\n",
       "</div>"
      ],
      "text/plain": [
       "             KS11  US500  Bitcoin\n",
       "Date                             \n",
       "2017-11-02 -1.704 -0.140    -0.18\n",
       "2017-11-03  0.851  0.291    -2.45\n",
       "2017-11-06 -0.791 -0.183    -7.63\n",
       "2017-11-07  0.179 -0.146     7.88\n",
       "2017-11-08  0.429  0.163     2.75\n",
       "...           ...    ...      ...\n",
       "2019-12-23 -0.368 -0.407    -2.74\n",
       "2019-12-24 -0.598 -0.107     1.57\n",
       "2019-12-26  0.977  0.533     0.55\n",
       "2019-12-27 -0.072 -0.510     0.89\n",
       "2019-12-30 -0.583 -0.581    -2.54\n",
       "\n",
       "[514 rows x 3 columns]"
      ]
     },
     "execution_count": 287,
     "metadata": {},
     "output_type": "execute_result"
    }
   ],
   "source": [
    "mydata_diff2 = ks_sp_coin_price2.diff().dropna()\n",
    "mydata_diff2"
   ]
  },
  {
   "cell_type": "code",
   "execution_count": 288,
   "id": "superb-popularity",
   "metadata": {},
   "outputs": [
    {
     "name": "stdout",
     "output_type": "stream",
     "text": [
      "ADF test statistic: -10.934332937105946\n",
      "p-value: 9.645001482382668e-20\n"
     ]
    }
   ],
   "source": [
    "adfuller_test = adfuller(mydata_diff2['KS11'], autolag= \"AIC\")\n",
    "print(\"ADF test statistic: {}\".format(adfuller_test[0]))\n",
    "print(\"p-value: {}\".format(adfuller_test[1]))"
   ]
  },
  {
   "cell_type": "code",
   "execution_count": 289,
   "id": "known-avenue",
   "metadata": {},
   "outputs": [
    {
     "name": "stdout",
     "output_type": "stream",
     "text": [
      "ADF test statistic: -9.926718890767818\n",
      "p-value: 2.89390659361994e-17\n"
     ]
    }
   ],
   "source": [
    "adfuller_test = adfuller(mydata_diff2['US500'], autolag= \"AIC\")\n",
    "print(\"ADF test statistic: {}\".format(adfuller_test[0]))\n",
    "print(\"p-value: {}\".format(adfuller_test[1]))"
   ]
  },
  {
   "cell_type": "code",
   "execution_count": 290,
   "id": "helpful-sensitivity",
   "metadata": {},
   "outputs": [
    {
     "name": "stdout",
     "output_type": "stream",
     "text": [
      "ADF test statistic: -10.587548060724682\n",
      "p-value: 6.656423582346981e-19\n"
     ]
    }
   ],
   "source": [
    "adfuller_test = adfuller(mydata_diff2['Bitcoin'], autolag= \"AIC\")\n",
    "print(\"ADF test statistic: {}\".format(adfuller_test[0]))\n",
    "print(\"p-value: {}\".format(adfuller_test[1]))"
   ]
  },
  {
   "cell_type": "code",
   "execution_count": 291,
   "id": "driven-smile",
   "metadata": {},
   "outputs": [],
   "source": [
    "mydata_diff2 = mydata_diff2.loc[:, ['US500', 'Bitcoin']]"
   ]
  },
  {
   "cell_type": "code",
   "execution_count": 292,
   "id": "divine-wheel",
   "metadata": {},
   "outputs": [],
   "source": [
    "train = mydata_diff2.iloc[:-10,:]\n",
    "test = mydata_diff2[-10:]"
   ]
  },
  {
   "cell_type": "code",
   "execution_count": null,
   "id": "christian-liquid",
   "metadata": {},
   "outputs": [],
   "source": []
  },
  {
   "cell_type": "code",
   "execution_count": 293,
   "id": "contemporary-stephen",
   "metadata": {},
   "outputs": [
    {
     "name": "stderr",
     "output_type": "stream",
     "text": [
      "C:\\ProgramData\\Anaconda3\\lib\\site-packages\\statsmodels\\tsa\\base\\tsa_model.py:583: ValueWarning: A date index has been provided, but it has no associated frequency information and so will be ignored when e.g. forecasting.\n",
      "  ' ignored when e.g. forecasting.', ValueWarning)\n"
     ]
    }
   ],
   "source": [
    "forecasting_model = VAR(train)\n",
    "results_aic = []\n",
    "for p in range(1,20):\n",
    "  results = forecasting_model.fit(p)\n",
    "  results_aic.append(results.aic)"
   ]
  },
  {
   "cell_type": "code",
   "execution_count": 294,
   "id": "compound-radius",
   "metadata": {},
   "outputs": [
    {
     "data": {
      "image/png": "[encoded data removed]",
      "text/plain": [
       "<Figure size 432x288 with 1 Axes>"
      ]
     },
     "metadata": {},
     "output_type": "display_data"
    }
   ],
   "source": [
    "sns.set()\n",
    "plt.plot(list(np.arange(1,20,1)), results_aic)\n",
    "plt.xlabel(\"Order\")\n",
    "plt.ylabel(\"AIC\")\n",
    "plt.show()"
   ]
  },
  {
   "cell_type": "code",
   "execution_count": 295,
   "id": "fitted-planning",
   "metadata": {},
   "outputs": [
    {
     "data": {
      "text/plain": [
       "  Summary of Regression Results   \n",
       "==================================\n",
       "Model:                         VAR\n",
       "Method:                        OLS\n",
       "Date:           Tue, 30, Mar, 2021\n",
       "Time:                     15:30:21\n",
       "--------------------------------------------------------------------\n",
       "No. of Equations:         2.00000    BIC:                    3.55012\n",
       "Nobs:                     494.000    HQIC:                   3.33310\n",
       "Log likelihood:          -2148.54    FPE:                    24.3596\n",
       "AIC:                      3.19282    Det(Omega_mle):         22.4135\n",
       "--------------------------------------------------------------------\n",
       "Results for equation US500\n",
       "==============================================================================\n",
       "                 coefficient       std. error           t-stat            prob\n",
       "------------------------------------------------------------------------------\n",
       "const               0.003482         0.044858            0.078           0.938\n",
       "L1.US500           -0.934283         0.045821          -20.390           0.000\n",
       "L1.Bitcoin          0.013448         0.009566            1.406           0.160\n",
       "L2.US500           -0.857706         0.062233          -13.782           0.000\n",
       "L2.Bitcoin         -0.002659         0.012767           -0.208           0.835\n",
       "L3.US500           -0.663152         0.072418           -9.157           0.000\n",
       "L3.Bitcoin          0.015681         0.014337            1.094           0.274\n",
       "L4.US500           -0.637341         0.077271           -8.248           0.000\n",
       "L4.Bitcoin          0.017844         0.014849            1.202           0.229\n",
       "L5.US500           -0.502966         0.079854           -6.299           0.000\n",
       "L5.Bitcoin          0.020658         0.015044            1.373           0.170\n",
       "L6.US500           -0.438079         0.079783           -5.491           0.000\n",
       "L6.Bitcoin          0.028449         0.015068            1.888           0.059\n",
       "L7.US500           -0.294266         0.076993           -3.822           0.000\n",
       "L7.Bitcoin          0.022247         0.014920            1.491           0.136\n",
       "L8.US500           -0.296402         0.072294           -4.100           0.000\n",
       "L8.Bitcoin          0.009002         0.014386            0.626           0.531\n",
       "L9.US500           -0.191977         0.062245           -3.084           0.002\n",
       "L9.Bitcoin          0.005861         0.012694            0.462           0.644\n",
       "L10.US500          -0.078510         0.045712           -1.717           0.086\n",
       "L10.Bitcoin         0.009052         0.009508            0.952           0.341\n",
       "==============================================================================\n",
       "\n",
       "Results for equation Bitcoin\n",
       "==============================================================================\n",
       "                 coefficient       std. error           t-stat            prob\n",
       "------------------------------------------------------------------------------\n",
       "const              -0.033464         0.213741           -0.157           0.876\n",
       "L1.US500           -0.068379         0.218329           -0.313           0.754\n",
       "L1.Bitcoin         -0.902126         0.045579          -19.793           0.000\n",
       "L2.US500            0.001844         0.296529            0.006           0.995\n",
       "L2.Bitcoin         -0.740621         0.060832          -12.175           0.000\n",
       "L3.US500           -0.222000         0.345060           -0.643           0.520\n",
       "L3.Bitcoin         -0.513095         0.068315           -7.511           0.000\n",
       "L4.US500           -0.433221         0.368181           -1.177           0.239\n",
       "L4.Bitcoin         -0.428505         0.070752           -6.056           0.000\n",
       "L5.US500           -0.457104         0.380490           -1.201           0.230\n",
       "L5.Bitcoin         -0.387978         0.071682           -5.412           0.000\n",
       "L6.US500           -0.347633         0.380154           -0.914           0.360\n",
       "L6.Bitcoin         -0.355355         0.071797           -4.949           0.000\n",
       "L7.US500           -0.234509         0.366858           -0.639           0.523\n",
       "L7.Bitcoin         -0.313022         0.071092           -4.403           0.000\n",
       "L8.US500           -0.390065         0.344471           -1.132           0.257\n",
       "L8.Bitcoin         -0.231232         0.068548           -3.373           0.001\n",
       "L9.US500           -0.754198         0.296586           -2.543           0.011\n",
       "L9.Bitcoin         -0.144130         0.060487           -2.383           0.017\n",
       "L10.US500          -0.457637         0.217809           -2.101           0.036\n",
       "L10.Bitcoin        -0.030982         0.045304           -0.684           0.494\n",
       "==============================================================================\n",
       "\n",
       "Correlation matrix of residuals\n",
       "              US500   Bitcoin\n",
       "US500      1.000000  0.028145\n",
       "Bitcoin    0.028145  1.000000\n",
       "\n"
      ]
     },
     "execution_count": 295,
     "metadata": {},
     "output_type": "execute_result"
    }
   ],
   "source": [
    "results = forecasting_model.fit(10)\n",
    "results.summary()"
   ]
  },
  {
   "cell_type": "code",
   "execution_count": 296,
   "id": "iraqi-location",
   "metadata": {},
   "outputs": [
    {
     "data": {
      "text/html": [
       "<div>\n",
       "<style scoped>\n",
       "    .dataframe tbody tr th:only-of-type {\n",
       "        vertical-align: middle;\n",
       "    }\n",
       "\n",
       "    .dataframe tbody tr th {\n",
       "        vertical-align: top;\n",
       "    }\n",
       "\n",
       "    .dataframe thead th {\n",
       "        text-align: right;\n",
       "    }\n",
       "</style>\n",
       "<table border=\"1\" class=\"dataframe\">\n",
       "  <thead>\n",
       "    <tr style=\"text-align: right;\">\n",
       "      <th></th>\n",
       "      <th>realUS500_1d</th>\n",
       "      <th>realBIT_1d</th>\n",
       "    </tr>\n",
       "    <tr>\n",
       "      <th>Date</th>\n",
       "      <th></th>\n",
       "      <th></th>\n",
       "    </tr>\n",
       "  </thead>\n",
       "  <tbody>\n",
       "    <tr>\n",
       "      <th>2019-12-16</th>\n",
       "      <td>-0.082817</td>\n",
       "      <td>-1.040623</td>\n",
       "    </tr>\n",
       "    <tr>\n",
       "      <th>2019-12-17</th>\n",
       "      <td>0.198169</td>\n",
       "      <td>-0.628837</td>\n",
       "    </tr>\n",
       "    <tr>\n",
       "      <th>2019-12-18</th>\n",
       "      <td>-0.103762</td>\n",
       "      <td>0.485347</td>\n",
       "    </tr>\n",
       "    <tr>\n",
       "      <th>2019-12-19</th>\n",
       "      <td>0.316209</td>\n",
       "      <td>0.480371</td>\n",
       "    </tr>\n",
       "    <tr>\n",
       "      <th>2019-12-20</th>\n",
       "      <td>-0.102469</td>\n",
       "      <td>0.196242</td>\n",
       "    </tr>\n",
       "    <tr>\n",
       "      <th>2019-12-23</th>\n",
       "      <td>-0.062075</td>\n",
       "      <td>-0.347832</td>\n",
       "    </tr>\n",
       "    <tr>\n",
       "      <th>2019-12-24</th>\n",
       "      <td>-0.069258</td>\n",
       "      <td>-0.697385</td>\n",
       "    </tr>\n",
       "    <tr>\n",
       "      <th>2019-12-26</th>\n",
       "      <td>0.081073</td>\n",
       "      <td>0.272987</td>\n",
       "    </tr>\n",
       "    <tr>\n",
       "      <th>2019-12-27</th>\n",
       "      <td>0.076311</td>\n",
       "      <td>0.616515</td>\n",
       "    </tr>\n",
       "    <tr>\n",
       "      <th>2019-12-30</th>\n",
       "      <td>-0.071274</td>\n",
       "      <td>-0.035398</td>\n",
       "    </tr>\n",
       "  </tbody>\n",
       "</table>\n",
       "</div>"
      ],
      "text/plain": [
       "            realUS500_1d  realBIT_1d\n",
       "Date                                \n",
       "2019-12-16     -0.082817   -1.040623\n",
       "2019-12-17      0.198169   -0.628837\n",
       "2019-12-18     -0.103762    0.485347\n",
       "2019-12-19      0.316209    0.480371\n",
       "2019-12-20     -0.102469    0.196242\n",
       "2019-12-23     -0.062075   -0.347832\n",
       "2019-12-24     -0.069258   -0.697385\n",
       "2019-12-26      0.081073    0.272987\n",
       "2019-12-27      0.076311    0.616515\n",
       "2019-12-30     -0.071274   -0.035398"
      ]
     },
     "execution_count": 296,
     "metadata": {},
     "output_type": "execute_result"
    }
   ],
   "source": [
    "laaged_values = train.values[-20:]\n",
    "forecast = pd.DataFrame(results.forecast(y= laaged_values, steps=10), index = test.index, columns= ['realUS500_1d', 'realBIT_1d'])\n",
    "forecast"
   ]
  },
  {
   "cell_type": "code",
   "execution_count": 297,
   "id": "liked-welding",
   "metadata": {},
   "outputs": [
    {
     "data": {
      "text/html": [
       "<div>\n",
       "<style scoped>\n",
       "    .dataframe tbody tr th:only-of-type {\n",
       "        vertical-align: middle;\n",
       "    }\n",
       "\n",
       "    .dataframe tbody tr th {\n",
       "        vertical-align: top;\n",
       "    }\n",
       "\n",
       "    .dataframe thead th {\n",
       "        text-align: right;\n",
       "    }\n",
       "</style>\n",
       "<table border=\"1\" class=\"dataframe\">\n",
       "  <thead>\n",
       "    <tr style=\"text-align: right;\">\n",
       "      <th></th>\n",
       "      <th>realUS500_1d</th>\n",
       "      <th>realBIT_1d</th>\n",
       "      <th>realUS500_forecasted</th>\n",
       "      <th>realBIT_forecasted</th>\n",
       "    </tr>\n",
       "    <tr>\n",
       "      <th>Date</th>\n",
       "      <th></th>\n",
       "      <th></th>\n",
       "      <th></th>\n",
       "      <th></th>\n",
       "    </tr>\n",
       "  </thead>\n",
       "  <tbody>\n",
       "    <tr>\n",
       "      <th>2019-12-16</th>\n",
       "      <td>-0.082817</td>\n",
       "      <td>-1.040623</td>\n",
       "      <td>-0.075817</td>\n",
       "      <td>-0.390623</td>\n",
       "    </tr>\n",
       "    <tr>\n",
       "      <th>2019-12-17</th>\n",
       "      <td>0.198169</td>\n",
       "      <td>-0.628837</td>\n",
       "      <td>0.122352</td>\n",
       "      <td>-1.019461</td>\n",
       "    </tr>\n",
       "    <tr>\n",
       "      <th>2019-12-18</th>\n",
       "      <td>-0.103762</td>\n",
       "      <td>0.485347</td>\n",
       "      <td>0.018590</td>\n",
       "      <td>-0.534114</td>\n",
       "    </tr>\n",
       "    <tr>\n",
       "      <th>2019-12-19</th>\n",
       "      <td>0.316209</td>\n",
       "      <td>0.480371</td>\n",
       "      <td>0.334800</td>\n",
       "      <td>-0.053744</td>\n",
       "    </tr>\n",
       "    <tr>\n",
       "      <th>2019-12-20</th>\n",
       "      <td>-0.102469</td>\n",
       "      <td>0.196242</td>\n",
       "      <td>0.232331</td>\n",
       "      <td>0.142498</td>\n",
       "    </tr>\n",
       "    <tr>\n",
       "      <th>2019-12-23</th>\n",
       "      <td>-0.062075</td>\n",
       "      <td>-0.347832</td>\n",
       "      <td>0.170256</td>\n",
       "      <td>-0.205334</td>\n",
       "    </tr>\n",
       "    <tr>\n",
       "      <th>2019-12-24</th>\n",
       "      <td>-0.069258</td>\n",
       "      <td>-0.697385</td>\n",
       "      <td>0.100999</td>\n",
       "      <td>-0.902719</td>\n",
       "    </tr>\n",
       "    <tr>\n",
       "      <th>2019-12-26</th>\n",
       "      <td>0.081073</td>\n",
       "      <td>0.272987</td>\n",
       "      <td>0.182071</td>\n",
       "      <td>-0.629732</td>\n",
       "    </tr>\n",
       "    <tr>\n",
       "      <th>2019-12-27</th>\n",
       "      <td>0.076311</td>\n",
       "      <td>0.616515</td>\n",
       "      <td>0.258382</td>\n",
       "      <td>-0.013217</td>\n",
       "    </tr>\n",
       "    <tr>\n",
       "      <th>2019-12-30</th>\n",
       "      <td>-0.071274</td>\n",
       "      <td>-0.035398</td>\n",
       "      <td>0.187108</td>\n",
       "      <td>-0.048616</td>\n",
       "    </tr>\n",
       "  </tbody>\n",
       "</table>\n",
       "</div>"
      ],
      "text/plain": [
       "            realUS500_1d  realBIT_1d  realUS500_forecasted  realBIT_forecasted\n",
       "Date                                                                          \n",
       "2019-12-16     -0.082817   -1.040623             -0.075817           -0.390623\n",
       "2019-12-17      0.198169   -0.628837              0.122352           -1.019461\n",
       "2019-12-18     -0.103762    0.485347              0.018590           -0.534114\n",
       "2019-12-19      0.316209    0.480371              0.334800           -0.053744\n",
       "2019-12-20     -0.102469    0.196242              0.232331            0.142498\n",
       "2019-12-23     -0.062075   -0.347832              0.170256           -0.205334\n",
       "2019-12-24     -0.069258   -0.697385              0.100999           -0.902719\n",
       "2019-12-26      0.081073    0.272987              0.182071           -0.629732\n",
       "2019-12-27      0.076311    0.616515              0.258382           -0.013217\n",
       "2019-12-30     -0.071274   -0.035398              0.187108           -0.048616"
      ]
     },
     "execution_count": 297,
     "metadata": {},
     "output_type": "execute_result"
    }
   ],
   "source": [
    "forecast[\"realUS500_forecasted\"] = ks_sp_coin_price2['US500'].dropna().iloc[-10-1] + forecast['realUS500_1d'].cumsum()\n",
    "forecast[\"realBIT_forecasted\"] = ks_sp_coin_price2['Bitcoin'].dropna().iloc[-10-1] + forecast['realBIT_1d'].cumsum() \n",
    "forecast"
   ]
  },
  {
   "cell_type": "code",
   "execution_count": 298,
   "id": "sound-heater",
   "metadata": {},
   "outputs": [
    {
     "name": "stderr",
     "output_type": "stream",
     "text": [
      "C:\\ProgramData\\Anaconda3\\lib\\site-packages\\ipykernel_launcher.py:2: SettingWithCopyWarning: \n",
      "A value is trying to be set on a copy of a slice from a DataFrame.\n",
      "Try using .loc[row_indexer,col_indexer] = value instead\n",
      "\n",
      "See the caveats in the documentation: https://pandas.pydata.org/pandas-docs/stable/user_guide/indexing.html#returning-a-view-versus-a-copy\n",
      "  \n",
      "C:\\ProgramData\\Anaconda3\\lib\\site-packages\\ipykernel_launcher.py:3: SettingWithCopyWarning: \n",
      "A value is trying to be set on a copy of a slice from a DataFrame.\n",
      "Try using .loc[row_indexer,col_indexer] = value instead\n",
      "\n",
      "See the caveats in the documentation: https://pandas.pydata.org/pandas-docs/stable/user_guide/indexing.html#returning-a-view-versus-a-copy\n",
      "  This is separate from the ipykernel package so we can avoid doing imports until\n"
     ]
    },
    {
     "data": {
      "text/plain": [
       "<AxesSubplot:xlabel='Date'>"
      ]
     },
     "execution_count": 298,
     "metadata": {},
     "output_type": "execute_result"
    },
    {
     "data": {
      "image/png": "[encoded data removed]",
      "text/plain": [
       "<Figure size 432x288 with 1 Axes>"
      ]
     },
     "metadata": {},
     "output_type": "display_data"
    }
   ],
   "source": [
    "test = mydata_diff2[-10:]\n",
    "test[\"realUS500_forecasted\"] = forecast[\"realUS500_forecasted\"]\n",
    "test[\"realBIT_forecasted\"] = forecast[\"realBIT_forecasted\"]\n",
    "\n",
    "test.plot(ylim = (-10,10))\n",
    "\n",
    "#test\n",
    "#test.plot()"
   ]
  },
  {
   "cell_type": "markdown",
   "id": "searching-meaning",
   "metadata": {},
   "source": [
    "# 3기 US500 - Bitcoin"
   ]
  },
  {
   "cell_type": "code",
   "execution_count": 299,
   "id": "regulated-waters",
   "metadata": {},
   "outputs": [
    {
     "name": "stdout",
     "output_type": "stream",
     "text": [
      "ADF test statistic: -10.212730001581292\n",
      "p-value: 5.583224081750343e-18\n"
     ]
    }
   ],
   "source": [
    "adfuller_test = adfuller(ks_sp_coin_price3['KS11'].dropna(), autolag= \"AIC\")\n",
    "print(\"ADF test statistic: {}\".format(adfuller_test[0]))\n",
    "print(\"p-value: {}\".format(adfuller_test[1]))"
   ]
  },
  {
   "cell_type": "code",
   "execution_count": 300,
   "id": "surgical-blackberry",
   "metadata": {},
   "outputs": [
    {
     "name": "stdout",
     "output_type": "stream",
     "text": [
      "ADF test statistic: -5.069032889464499\n",
      "p-value: 1.6174655309879695e-05\n"
     ]
    }
   ],
   "source": [
    "adfuller_test = adfuller(ks_sp_coin_price3['US500'].dropna(), autolag= \"AIC\")\n",
    "print(\"ADF test statistic: {}\".format(adfuller_test[0]))\n",
    "print(\"p-value: {}\".format(adfuller_test[1]))"
   ]
  },
  {
   "cell_type": "code",
   "execution_count": 301,
   "id": "narrative-clinic",
   "metadata": {},
   "outputs": [
    {
     "name": "stdout",
     "output_type": "stream",
     "text": [
      "ADF test statistic: -4.311925814658219\n",
      "p-value: 0.000423556632384061\n"
     ]
    }
   ],
   "source": [
    "adfuller_test = adfuller(ks_sp_coin_price3['Bitcoin'].dropna(), autolag= \"AIC\")\n",
    "print(\"ADF test statistic: {}\".format(adfuller_test[0]))\n",
    "print(\"p-value: {}\".format(adfuller_test[1]))"
   ]
  },
  {
   "cell_type": "code",
   "execution_count": 302,
   "id": "musical-hollywood",
   "metadata": {},
   "outputs": [
    {
     "data": {
      "text/html": [
       "<div>\n",
       "<style scoped>\n",
       "    .dataframe tbody tr th:only-of-type {\n",
       "        vertical-align: middle;\n",
       "    }\n",
       "\n",
       "    .dataframe tbody tr th {\n",
       "        vertical-align: top;\n",
       "    }\n",
       "\n",
       "    .dataframe thead th {\n",
       "        text-align: right;\n",
       "    }\n",
       "</style>\n",
       "<table border=\"1\" class=\"dataframe\">\n",
       "  <thead>\n",
       "    <tr style=\"text-align: right;\">\n",
       "      <th></th>\n",
       "      <th>KS11</th>\n",
       "      <th>US500</th>\n",
       "      <th>Bitcoin</th>\n",
       "    </tr>\n",
       "    <tr>\n",
       "      <th>Date</th>\n",
       "      <th></th>\n",
       "      <th></th>\n",
       "      <th></th>\n",
       "    </tr>\n",
       "  </thead>\n",
       "  <tbody>\n",
       "    <tr>\n",
       "      <th>2020-01-03</th>\n",
       "      <td>1.083</td>\n",
       "      <td>-1.841</td>\n",
       "      <td>8.63</td>\n",
       "    </tr>\n",
       "    <tr>\n",
       "      <th>2020-01-06</th>\n",
       "      <td>-1.042</td>\n",
       "      <td>1.059</td>\n",
       "      <td>-0.16</td>\n",
       "    </tr>\n",
       "    <tr>\n",
       "      <th>2020-01-07</th>\n",
       "      <td>1.933</td>\n",
       "      <td>-0.633</td>\n",
       "      <td>-0.13</td>\n",
       "    </tr>\n",
       "    <tr>\n",
       "      <th>2020-01-08</th>\n",
       "      <td>-2.064</td>\n",
       "      <td>0.770</td>\n",
       "      <td>-6.29</td>\n",
       "    </tr>\n",
       "    <tr>\n",
       "      <th>2020-01-09</th>\n",
       "      <td>2.747</td>\n",
       "      <td>0.176</td>\n",
       "      <td>-1.52</td>\n",
       "    </tr>\n",
       "    <tr>\n",
       "      <th>...</th>\n",
       "      <td>...</td>\n",
       "      <td>...</td>\n",
       "      <td>...</td>\n",
       "    </tr>\n",
       "    <tr>\n",
       "      <th>2021-03-23</th>\n",
       "      <td>-0.878</td>\n",
       "      <td>-1.466</td>\n",
       "      <td>6.16</td>\n",
       "    </tr>\n",
       "    <tr>\n",
       "      <th>2021-03-24</th>\n",
       "      <td>0.733</td>\n",
       "      <td>0.216</td>\n",
       "      <td>-4.45</td>\n",
       "    </tr>\n",
       "    <tr>\n",
       "      <th>2021-03-25</th>\n",
       "      <td>0.679</td>\n",
       "      <td>1.071</td>\n",
       "      <td>1.99</td>\n",
       "    </tr>\n",
       "    <tr>\n",
       "      <th>2021-03-26</th>\n",
       "      <td>0.686</td>\n",
       "      <td>1.139</td>\n",
       "      <td>9.16</td>\n",
       "    </tr>\n",
       "    <tr>\n",
       "      <th>2021-03-29</th>\n",
       "      <td>-1.249</td>\n",
       "      <td>-1.750</td>\n",
       "      <td>-3.92</td>\n",
       "    </tr>\n",
       "  </tbody>\n",
       "</table>\n",
       "<p>296 rows × 3 columns</p>\n",
       "</div>"
      ],
      "text/plain": [
       "             KS11  US500  Bitcoin\n",
       "Date                             \n",
       "2020-01-03  1.083 -1.841     8.63\n",
       "2020-01-06 -1.042  1.059    -0.16\n",
       "2020-01-07  1.933 -0.633    -0.13\n",
       "2020-01-08 -2.064  0.770    -6.29\n",
       "2020-01-09  2.747  0.176    -1.52\n",
       "...           ...    ...      ...\n",
       "2021-03-23 -0.878 -1.466     6.16\n",
       "2021-03-24  0.733  0.216    -4.45\n",
       "2021-03-25  0.679  1.071     1.99\n",
       "2021-03-26  0.686  1.139     9.16\n",
       "2021-03-29 -1.249 -1.750    -3.92\n",
       "\n",
       "[296 rows x 3 columns]"
      ]
     },
     "execution_count": 302,
     "metadata": {},
     "output_type": "execute_result"
    }
   ],
   "source": [
    "mydata_diff3 = ks_sp_coin_price3.diff().dropna()\n",
    "mydata_diff3"
   ]
  },
  {
   "cell_type": "code",
   "execution_count": 303,
   "id": "electoral-christianity",
   "metadata": {},
   "outputs": [
    {
     "name": "stdout",
     "output_type": "stream",
     "text": [
      "ADF test statistic: -8.225018374121777\n",
      "p-value: 6.280270732472328e-13\n"
     ]
    }
   ],
   "source": [
    "adfuller_test = adfuller(mydata_diff3['KS11'], autolag= \"AIC\")\n",
    "print(\"ADF test statistic: {}\".format(adfuller_test[0]))\n",
    "print(\"p-value: {}\".format(adfuller_test[1]))"
   ]
  },
  {
   "cell_type": "code",
   "execution_count": 304,
   "id": "automotive-insider",
   "metadata": {},
   "outputs": [],
   "source": [
    "mydata_diff3 = mydata_diff3.loc[:, ['US500', 'Bitcoin']]"
   ]
  },
  {
   "cell_type": "code",
   "execution_count": 305,
   "id": "stable-ministry",
   "metadata": {},
   "outputs": [],
   "source": [
    "train = mydata_diff3.iloc[:-10,:]\n",
    "test = mydata_diff3[-10:]"
   ]
  },
  {
   "cell_type": "code",
   "execution_count": 306,
   "id": "proud-ceramic",
   "metadata": {},
   "outputs": [
    {
     "name": "stderr",
     "output_type": "stream",
     "text": [
      "C:\\ProgramData\\Anaconda3\\lib\\site-packages\\statsmodels\\tsa\\base\\tsa_model.py:583: ValueWarning: A date index has been provided, but it has no associated frequency information and so will be ignored when e.g. forecasting.\n",
      "  ' ignored when e.g. forecasting.', ValueWarning)\n"
     ]
    }
   ],
   "source": [
    "forecasting_model = VAR(train)\n",
    "results_aic = []\n",
    "for p in range(1,20):\n",
    "  results = forecasting_model.fit(p)\n",
    "  results_aic.append(results.aic)"
   ]
  },
  {
   "cell_type": "code",
   "execution_count": 307,
   "id": "smart-banks",
   "metadata": {},
   "outputs": [
    {
     "data": {
      "image/png": "[encoded data removed]",
      "text/plain": [
       "<Figure size 432x288 with 1 Axes>"
      ]
     },
     "metadata": {},
     "output_type": "display_data"
    }
   ],
   "source": [
    "sns.set()\n",
    "plt.plot(list(np.arange(1,20,1)), results_aic)\n",
    "plt.xlabel(\"Order\")\n",
    "plt.ylabel(\"AIC\")\n",
    "plt.show()"
   ]
  },
  {
   "cell_type": "code",
   "execution_count": 308,
   "id": "healthy-tourism",
   "metadata": {},
   "outputs": [
    {
     "data": {
      "text/plain": [
       "  Summary of Regression Results   \n",
       "==================================\n",
       "Model:                         VAR\n",
       "Method:                        OLS\n",
       "Date:           Tue, 30, Mar, 2021\n",
       "Time:                     15:31:26\n",
       "--------------------------------------------------------------------\n",
       "No. of Equations:         2.00000    BIC:                    4.78593\n",
       "Nobs:                     276.000    HQIC:                   4.45608\n",
       "Log likelihood:          -1325.68    FPE:                    69.1026\n",
       "AIC:                      4.23500    Det(Omega_mle):         59.6760\n",
       "--------------------------------------------------------------------\n",
       "Results for equation US500\n",
       "==============================================================================\n",
       "                 coefficient       std. error           t-stat            prob\n",
       "------------------------------------------------------------------------------\n",
       "const               0.008060         0.108697            0.074           0.941\n",
       "L1.US500           -1.073982         0.066971          -16.036           0.000\n",
       "L1.Bitcoin         -0.048350         0.025533           -1.894           0.058\n",
       "L2.US500           -0.919103         0.096981           -9.477           0.000\n",
       "L2.Bitcoin          0.053269         0.034785            1.531           0.126\n",
       "L3.US500           -0.785100         0.108909           -7.209           0.000\n",
       "L3.Bitcoin          0.067422         0.039268            1.717           0.086\n",
       "L4.US500           -0.846866         0.115263           -7.347           0.000\n",
       "L4.Bitcoin          0.118966         0.042362            2.808           0.005\n",
       "L5.US500           -0.721186         0.117166           -6.155           0.000\n",
       "L5.Bitcoin          0.111205         0.043498            2.557           0.011\n",
       "L6.US500           -0.764685         0.117247           -6.522           0.000\n",
       "L6.Bitcoin          0.143323         0.043940            3.262           0.001\n",
       "L7.US500           -0.465374         0.113732           -4.092           0.000\n",
       "L7.Bitcoin          0.121672         0.042993            2.830           0.005\n",
       "L8.US500           -0.458786         0.106587           -4.304           0.000\n",
       "L8.Bitcoin          0.094164         0.040378            2.332           0.020\n",
       "L9.US500           -0.234268         0.095728           -2.447           0.014\n",
       "L9.Bitcoin          0.034517         0.035077            0.984           0.325\n",
       "L10.US500          -0.058482         0.065866           -0.888           0.375\n",
       "L10.Bitcoin        -0.001681         0.025365           -0.066           0.947\n",
       "==============================================================================\n",
       "\n",
       "Results for equation Bitcoin\n",
       "==============================================================================\n",
       "                 coefficient       std. error           t-stat            prob\n",
       "------------------------------------------------------------------------------\n",
       "const              -0.035901         0.276122           -0.130           0.897\n",
       "L1.US500            0.006158         0.170127            0.036           0.971\n",
       "L1.Bitcoin         -1.019149         0.064861          -15.713           0.000\n",
       "L2.US500           -0.469135         0.246360           -1.904           0.057\n",
       "L2.Bitcoin         -0.791352         0.088364           -8.956           0.000\n",
       "L3.US500           -0.122349         0.276661           -0.442           0.658\n",
       "L3.Bitcoin         -0.663553         0.099752           -6.652           0.000\n",
       "L4.US500            0.001895         0.292803            0.006           0.995\n",
       "L4.Bitcoin         -0.456770         0.107611           -4.245           0.000\n",
       "L5.US500            0.033109         0.297637            0.111           0.911\n",
       "L5.Bitcoin         -0.503638         0.110498           -4.558           0.000\n",
       "L6.US500           -0.327986         0.297843           -1.101           0.271\n",
       "L6.Bitcoin         -0.375208         0.111622           -3.361           0.001\n",
       "L7.US500           -0.269705         0.288912           -0.934           0.351\n",
       "L7.Bitcoin         -0.360188         0.109216           -3.298           0.001\n",
       "L8.US500           -0.674292         0.270762           -2.490           0.013\n",
       "L8.Bitcoin         -0.372399         0.102572           -3.631           0.000\n",
       "L9.US500           -0.450049         0.243176           -1.851           0.064\n",
       "L9.Bitcoin         -0.337448         0.089107           -3.787           0.000\n",
       "L10.US500          -0.304359         0.167320           -1.819           0.069\n",
       "L10.Bitcoin        -0.211738         0.064433           -3.286           0.001\n",
       "==============================================================================\n",
       "\n",
       "Correlation matrix of residuals\n",
       "              US500   Bitcoin\n",
       "US500      1.000000  0.360211\n",
       "Bitcoin    0.360211  1.000000\n",
       "\n"
      ]
     },
     "execution_count": 308,
     "metadata": {},
     "output_type": "execute_result"
    }
   ],
   "source": [
    "results = forecasting_model.fit(10)\n",
    "results.summary()"
   ]
  },
  {
   "cell_type": "code",
   "execution_count": 309,
   "id": "advised-kruger",
   "metadata": {},
   "outputs": [
    {
     "data": {
      "text/html": [
       "<div>\n",
       "<style scoped>\n",
       "    .dataframe tbody tr th:only-of-type {\n",
       "        vertical-align: middle;\n",
       "    }\n",
       "\n",
       "    .dataframe tbody tr th {\n",
       "        vertical-align: top;\n",
       "    }\n",
       "\n",
       "    .dataframe thead th {\n",
       "        text-align: right;\n",
       "    }\n",
       "</style>\n",
       "<table border=\"1\" class=\"dataframe\">\n",
       "  <thead>\n",
       "    <tr style=\"text-align: right;\">\n",
       "      <th></th>\n",
       "      <th>realUS500_1d</th>\n",
       "      <th>realBIT_1d</th>\n",
       "    </tr>\n",
       "    <tr>\n",
       "      <th>Date</th>\n",
       "      <th></th>\n",
       "      <th></th>\n",
       "    </tr>\n",
       "  </thead>\n",
       "  <tbody>\n",
       "    <tr>\n",
       "      <th>2021-03-16</th>\n",
       "      <td>0.452733</td>\n",
       "      <td>7.115022</td>\n",
       "    </tr>\n",
       "    <tr>\n",
       "      <th>2021-03-17</th>\n",
       "      <td>-2.027246</td>\n",
       "      <td>-3.250760</td>\n",
       "    </tr>\n",
       "    <tr>\n",
       "      <th>2021-03-18</th>\n",
       "      <td>1.968083</td>\n",
       "      <td>1.355300</td>\n",
       "    </tr>\n",
       "    <tr>\n",
       "      <th>2021-03-19</th>\n",
       "      <td>-1.517202</td>\n",
       "      <td>-1.426359</td>\n",
       "    </tr>\n",
       "    <tr>\n",
       "      <th>2021-03-22</th>\n",
       "      <td>0.820683</td>\n",
       "      <td>2.604256</td>\n",
       "    </tr>\n",
       "    <tr>\n",
       "      <th>2021-03-23</th>\n",
       "      <td>-0.606337</td>\n",
       "      <td>-1.237435</td>\n",
       "    </tr>\n",
       "    <tr>\n",
       "      <th>2021-03-24</th>\n",
       "      <td>0.665522</td>\n",
       "      <td>1.999377</td>\n",
       "    </tr>\n",
       "    <tr>\n",
       "      <th>2021-03-25</th>\n",
       "      <td>0.150658</td>\n",
       "      <td>-0.608703</td>\n",
       "    </tr>\n",
       "    <tr>\n",
       "      <th>2021-03-26</th>\n",
       "      <td>-0.215163</td>\n",
       "      <td>-0.765811</td>\n",
       "    </tr>\n",
       "    <tr>\n",
       "      <th>2021-03-29</th>\n",
       "      <td>0.725759</td>\n",
       "      <td>-0.158850</td>\n",
       "    </tr>\n",
       "  </tbody>\n",
       "</table>\n",
       "</div>"
      ],
      "text/plain": [
       "            realUS500_1d  realBIT_1d\n",
       "Date                                \n",
       "2021-03-16      0.452733    7.115022\n",
       "2021-03-17     -2.027246   -3.250760\n",
       "2021-03-18      1.968083    1.355300\n",
       "2021-03-19     -1.517202   -1.426359\n",
       "2021-03-22      0.820683    2.604256\n",
       "2021-03-23     -0.606337   -1.237435\n",
       "2021-03-24      0.665522    1.999377\n",
       "2021-03-25      0.150658   -0.608703\n",
       "2021-03-26     -0.215163   -0.765811\n",
       "2021-03-29      0.725759   -0.158850"
      ]
     },
     "execution_count": 309,
     "metadata": {},
     "output_type": "execute_result"
    }
   ],
   "source": [
    "laaged_values = train.values[-20:]\n",
    "forecast = pd.DataFrame(results.forecast(y= laaged_values, steps=10), index = test.index, columns= ['realUS500_1d', 'realBIT_1d'])\n",
    "forecast"
   ]
  },
  {
   "cell_type": "code",
   "execution_count": 310,
   "id": "popular-missile",
   "metadata": {},
   "outputs": [
    {
     "data": {
      "text/html": [
       "<div>\n",
       "<style scoped>\n",
       "    .dataframe tbody tr th:only-of-type {\n",
       "        vertical-align: middle;\n",
       "    }\n",
       "\n",
       "    .dataframe tbody tr th {\n",
       "        vertical-align: top;\n",
       "    }\n",
       "\n",
       "    .dataframe thead th {\n",
       "        text-align: right;\n",
       "    }\n",
       "</style>\n",
       "<table border=\"1\" class=\"dataframe\">\n",
       "  <thead>\n",
       "    <tr style=\"text-align: right;\">\n",
       "      <th></th>\n",
       "      <th>realUS500_1d</th>\n",
       "      <th>realBIT_1d</th>\n",
       "      <th>realUS500_forecasted</th>\n",
       "      <th>realBIT_forecasted</th>\n",
       "    </tr>\n",
       "    <tr>\n",
       "      <th>Date</th>\n",
       "      <th></th>\n",
       "      <th></th>\n",
       "      <th></th>\n",
       "      <th></th>\n",
       "    </tr>\n",
       "  </thead>\n",
       "  <tbody>\n",
       "    <tr>\n",
       "      <th>2021-03-16</th>\n",
       "      <td>0.452733</td>\n",
       "      <td>7.115022</td>\n",
       "      <td>1.101733</td>\n",
       "      <td>1.495022</td>\n",
       "    </tr>\n",
       "    <tr>\n",
       "      <th>2021-03-17</th>\n",
       "      <td>-2.027246</td>\n",
       "      <td>-3.250760</td>\n",
       "      <td>-0.925513</td>\n",
       "      <td>-1.755738</td>\n",
       "    </tr>\n",
       "    <tr>\n",
       "      <th>2021-03-18</th>\n",
       "      <td>1.968083</td>\n",
       "      <td>1.355300</td>\n",
       "      <td>1.042570</td>\n",
       "      <td>-0.400438</td>\n",
       "    </tr>\n",
       "    <tr>\n",
       "      <th>2021-03-19</th>\n",
       "      <td>-1.517202</td>\n",
       "      <td>-1.426359</td>\n",
       "      <td>-0.474632</td>\n",
       "      <td>-1.826797</td>\n",
       "    </tr>\n",
       "    <tr>\n",
       "      <th>2021-03-22</th>\n",
       "      <td>0.820683</td>\n",
       "      <td>2.604256</td>\n",
       "      <td>0.346052</td>\n",
       "      <td>0.777459</td>\n",
       "    </tr>\n",
       "    <tr>\n",
       "      <th>2021-03-23</th>\n",
       "      <td>-0.606337</td>\n",
       "      <td>-1.237435</td>\n",
       "      <td>-0.260286</td>\n",
       "      <td>-0.459976</td>\n",
       "    </tr>\n",
       "    <tr>\n",
       "      <th>2021-03-24</th>\n",
       "      <td>0.665522</td>\n",
       "      <td>1.999377</td>\n",
       "      <td>0.405237</td>\n",
       "      <td>1.539401</td>\n",
       "    </tr>\n",
       "    <tr>\n",
       "      <th>2021-03-25</th>\n",
       "      <td>0.150658</td>\n",
       "      <td>-0.608703</td>\n",
       "      <td>0.555894</td>\n",
       "      <td>0.930699</td>\n",
       "    </tr>\n",
       "    <tr>\n",
       "      <th>2021-03-26</th>\n",
       "      <td>-0.215163</td>\n",
       "      <td>-0.765811</td>\n",
       "      <td>0.340731</td>\n",
       "      <td>0.164888</td>\n",
       "    </tr>\n",
       "    <tr>\n",
       "      <th>2021-03-29</th>\n",
       "      <td>0.725759</td>\n",
       "      <td>-0.158850</td>\n",
       "      <td>1.066490</td>\n",
       "      <td>0.006038</td>\n",
       "    </tr>\n",
       "  </tbody>\n",
       "</table>\n",
       "</div>"
      ],
      "text/plain": [
       "            realUS500_1d  realBIT_1d  realUS500_forecasted  realBIT_forecasted\n",
       "Date                                                                          \n",
       "2021-03-16      0.452733    7.115022              1.101733            1.495022\n",
       "2021-03-17     -2.027246   -3.250760             -0.925513           -1.755738\n",
       "2021-03-18      1.968083    1.355300              1.042570           -0.400438\n",
       "2021-03-19     -1.517202   -1.426359             -0.474632           -1.826797\n",
       "2021-03-22      0.820683    2.604256              0.346052            0.777459\n",
       "2021-03-23     -0.606337   -1.237435             -0.260286           -0.459976\n",
       "2021-03-24      0.665522    1.999377              0.405237            1.539401\n",
       "2021-03-25      0.150658   -0.608703              0.555894            0.930699\n",
       "2021-03-26     -0.215163   -0.765811              0.340731            0.164888\n",
       "2021-03-29      0.725759   -0.158850              1.066490            0.006038"
      ]
     },
     "execution_count": 310,
     "metadata": {},
     "output_type": "execute_result"
    }
   ],
   "source": [
    "forecast[\"realUS500_forecasted\"] = ks_sp_coin_price3['US500'].dropna().iloc[-10-1] + forecast['realUS500_1d'].cumsum()\n",
    "forecast[\"realBIT_forecasted\"] = ks_sp_coin_price3['Bitcoin'].dropna().iloc[-10-1] + forecast['realBIT_1d'].cumsum() \n",
    "forecast"
   ]
  },
  {
   "cell_type": "code",
   "execution_count": 311,
   "id": "greenhouse-suite",
   "metadata": {},
   "outputs": [
    {
     "name": "stderr",
     "output_type": "stream",
     "text": [
      "C:\\ProgramData\\Anaconda3\\lib\\site-packages\\ipykernel_launcher.py:2: SettingWithCopyWarning: \n",
      "A value is trying to be set on a copy of a slice from a DataFrame.\n",
      "Try using .loc[row_indexer,col_indexer] = value instead\n",
      "\n",
      "See the caveats in the documentation: https://pandas.pydata.org/pandas-docs/stable/user_guide/indexing.html#returning-a-view-versus-a-copy\n",
      "  \n",
      "C:\\ProgramData\\Anaconda3\\lib\\site-packages\\ipykernel_launcher.py:3: SettingWithCopyWarning: \n",
      "A value is trying to be set on a copy of a slice from a DataFrame.\n",
      "Try using .loc[row_indexer,col_indexer] = value instead\n",
      "\n",
      "See the caveats in the documentation: https://pandas.pydata.org/pandas-docs/stable/user_guide/indexing.html#returning-a-view-versus-a-copy\n",
      "  This is separate from the ipykernel package so we can avoid doing imports until\n"
     ]
    },
    {
     "data": {
      "text/plain": [
       "<AxesSubplot:xlabel='Date'>"
      ]
     },
     "execution_count": 311,
     "metadata": {},
     "output_type": "execute_result"
    },
    {
     "data": {
      "image/png": "[encoded data removed]",
      "text/plain": [
       "<Figure size 432x288 with 1 Axes>"
      ]
     },
     "metadata": {},
     "output_type": "display_data"
    }
   ],
   "source": [
    "test = mydata_diff3[-10:]\n",
    "test[\"realUS500_forecasted\"] = forecast[\"realUS500_forecasted\"]\n",
    "test[\"realBIT_forecasted\"] = forecast[\"realBIT_forecasted\"]\n",
    "\n",
    "test.plot(ylim = (-10,10))\n",
    "\n",
    "#test\n",
    "#test.plot()"
   ]
  },
  {
   "cell_type": "code",
   "execution_count": null,
   "id": "german-hindu",
   "metadata": {},
   "outputs": [],
   "source": []
  }
 ],
 "metadata": {
  "kernelspec": {
   "display_name": "Python 3",
   "language": "python",
   "name": "python3"
  },
  "language_info": {
   "codemirror_mode": {
    "name": "ipython",
    "version": 3
   },
   "file_extension": ".py",
   "mimetype": "text/x-python",
   "name": "python",
   "nbconvert_exporter": "python",
   "pygments_lexer": "ipython3",
   "version": "3.7.10"
  }
 },
 "nbformat": 4,
 "nbformat_minor": 5
}
